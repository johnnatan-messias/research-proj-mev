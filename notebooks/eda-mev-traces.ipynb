{
 "cells": [
  {
   "cell_type": "markdown",
   "id": "737dd85d",
   "metadata": {},
   "source": [
    "# Base blockchain -- trace data\n",
    "\n",
    "By [Johnnatan Messias](https://johnnatan-messias.github.io), August 20th\n",
    "\n",
    "### Base Chain Trace Columns\n",
    "\n",
    "These columns likely come from Base chain and represent execution traces from transaction replays (e.g., via `debug_traceTransaction`). Below is a description of each column:\n",
    "\n",
    "| Column           | Description                                                                |\n",
    "| ---------------- | -------------------------------------------------------------------------- |\n",
    "| `block_time`     | Timestamp of the block in human-readable format.                           |\n",
    "| `block_number`   | The block number where the trace occurred.                                 |\n",
    "| `value`          | Amount of ETH (in wei) transferred in the trace.                           |\n",
    "| `gas`            | Gas limit specified for this trace.                                        |\n",
    "| `gas_used`       | Actual gas consumed by the operation.                                      |\n",
    "| `block_hash`     | The hash of the block containing this trace.                               |\n",
    "| `success`        | Indicates if this specific trace step was successful (`True`/`False`).     |\n",
    "| `tx_index`       | Transaction index within the block.                                        |\n",
    "| `sub_traces`     | Number of sub-calls from this trace (e.g., internal contract calls).       |\n",
    "| `error`          | Error message if the trace failed (e.g., 'revert').                        |\n",
    "| `tx_success`     | Whether the entire transaction was successful.                             |\n",
    "| `tx_hash`        | Hash of the transaction this trace belongs to.                             |\n",
    "| `from`           | Address that initiated this trace.                                         |\n",
    "| `to`             | Address receiving the call/message.                                        |\n",
    "| `trace_address`  | Path within the transaction trace tree (e.g., `[0, 1]` for a nested call). |\n",
    "| `type`           | Type of trace: `call`, `create`, `suicide`, etc.                           |\n",
    "| `address`        | For `create` or `suicide`, the address being created/destroyed.            |\n",
    "| `code`           | Contract bytecode (if available).                                          |\n",
    "| `call_type`      | E.g., `call`, `delegatecall`, `staticcall`, etc.                           |\n",
    "| `input`          | Hex-encoded input data to the contract.                                    |\n",
    "| `output`         | Hex-encoded output returned by the call.                                   |\n",
    "| `refund_address` | If ETH is being refunded (e.g., during contract destruction).              |\n",
    "| `block_date`     | Date extracted from `block_time` (e.g., `YYYY-MM-DD`).                     |\n",
    "| `to_label`       | Human-readable label for the `to` address, if available.                   |\n",
    "| `from_label`     | Human-readable label for the `from` address, if available.                 |\n"
   ]
  },
  {
   "cell_type": "code",
   "execution_count": 1,
   "id": "380574cd",
   "metadata": {},
   "outputs": [],
   "source": [
    "# The \"from\" and \"to\" column is already the parsed traces gathered from the input."
   ]
  },
  {
   "cell_type": "code",
   "execution_count": 2,
   "id": "1d0262bd",
   "metadata": {},
   "outputs": [],
   "source": [
    "import os\n",
    "import json\n",
    "import polars as pl"
   ]
  },
  {
   "cell_type": "code",
   "execution_count": 3,
   "id": "adeb56c7",
   "metadata": {},
   "outputs": [],
   "source": [
    "import sys\n",
    "code_dir = os.path.realpath(os.path.join(os.getcwd(), \"..\", \"src\"))\n",
    "\n",
    "sys.path.append(code_dir)"
   ]
  },
  {
   "cell_type": "code",
   "execution_count": 4,
   "id": "b56425e6",
   "metadata": {},
   "outputs": [],
   "source": [
    "from utils import f_selector_dict, parse_tx_input"
   ]
  },
  {
   "cell_type": "code",
   "execution_count": 5,
   "id": "9b2920ed",
   "metadata": {},
   "outputs": [],
   "source": [
    "data_dir = os.path.realpath(os.path.join(os.getcwd(), \"..\", \"data\"))\n",
    "os.makedirs(data_dir, exist_ok=True)"
   ]
  },
  {
   "cell_type": "code",
   "execution_count": 6,
   "id": "75bba69e",
   "metadata": {},
   "outputs": [
    {
     "name": "stdout",
     "output_type": "stream",
     "text": [
      "There are 501 labels in our dataset.\n"
     ]
    }
   ],
   "source": [
    "filedir = os.path.join(data_dir, \"labels\", \"account-labels.json\")\n",
    "with open(filedir) as f:\n",
    "    labels = json.load(f)\n",
    "print(\"There are {} labels in our dataset.\".format(len(labels)))"
   ]
  },
  {
   "cell_type": "code",
   "execution_count": 7,
   "id": "b0f67b14",
   "metadata": {},
   "outputs": [],
   "source": [
    "# Loading dead addresses\n",
    "dead_addresses_df = pl.read_csv(os.path.join(\n",
    "    data_dir, \"labels\", \"dead_addresses.csv\"))['address'].to_list()"
   ]
  },
  {
   "cell_type": "code",
   "execution_count": 8,
   "id": "3c3dfcfa",
   "metadata": {},
   "outputs": [
    {
     "data": {
      "text/html": [
       "<div><style>\n",
       ".dataframe > thead > tr,\n",
       ".dataframe > tbody > tr {\n",
       "  text-align: right;\n",
       "  white-space: pre-wrap;\n",
       "}\n",
       "</style>\n",
       "<small>shape: (5, 20)</small><table border=\"1\" class=\"dataframe\"><thead><tr><th>address</th><th>chain</th><th>contract</th><th>tags_id</th><th>tags_label</th><th>tags_rank</th><th>tags_excludeEntities</th><th>tags_tagParams</th><th>arkhamLabel_name</th><th>arkhamLabel_chainType</th><th>name</th><th>note</th><th>id</th><th>type</th><th>service</th><th>addresses</th><th>website</th><th>twitter</th><th>crunchbase</th><th>linkedin</th></tr><tr><td>str</td><td>str</td><td>bool</td><td>str</td><td>str</td><td>str</td><td>str</td><td>str</td><td>str</td><td>str</td><td>str</td><td>str</td><td>str</td><td>str</td><td>str</td><td>str</td><td>str</td><td>str</td><td>str</td><td>str</td></tr></thead><tbody><tr><td>&quot;0x1d42064fc4beb5f8aaf85f4617ae…</td><td>&quot;arbitrum_one&quot;</td><td>false</td><td>null</td><td>null</td><td>null</td><td>null</td><td>null</td><td>null</td><td>null</td><td>&quot;Uniswap&quot;</td><td>null</td><td>&quot;uniswap&quot;</td><td>&quot;dex&quot;</td><td>null</td><td>null</td><td>&quot;https://uniswap.org&quot;</td><td>&quot;https://twitter.com/Uniswap&quot;</td><td>&quot;https://www.crunchbase.com/org…</td><td>&quot;https://www.linkedin.com/compa…</td></tr><tr><td>&quot;0x1d42064fc4beb5f8aaf85f4617ae…</td><td>&quot;avalanche&quot;</td><td>false</td><td>null</td><td>null</td><td>null</td><td>null</td><td>null</td><td>null</td><td>null</td><td>&quot;Uniswap&quot;</td><td>null</td><td>&quot;uniswap&quot;</td><td>&quot;dex&quot;</td><td>null</td><td>null</td><td>&quot;https://uniswap.org&quot;</td><td>&quot;https://twitter.com/Uniswap&quot;</td><td>&quot;https://www.crunchbase.com/org…</td><td>&quot;https://www.linkedin.com/compa…</td></tr><tr><td>&quot;0x1d42064fc4beb5f8aaf85f4617ae…</td><td>&quot;base&quot;</td><td>false</td><td>null</td><td>null</td><td>null</td><td>null</td><td>null</td><td>null</td><td>null</td><td>&quot;Uniswap&quot;</td><td>null</td><td>&quot;uniswap&quot;</td><td>&quot;dex&quot;</td><td>null</td><td>null</td><td>&quot;https://uniswap.org&quot;</td><td>&quot;https://twitter.com/Uniswap&quot;</td><td>&quot;https://www.crunchbase.com/org…</td><td>&quot;https://www.linkedin.com/compa…</td></tr><tr><td>&quot;0x1d42064fc4beb5f8aaf85f4617ae…</td><td>&quot;blast&quot;</td><td>false</td><td>null</td><td>null</td><td>null</td><td>null</td><td>null</td><td>null</td><td>null</td><td>&quot;Uniswap&quot;</td><td>null</td><td>&quot;uniswap&quot;</td><td>&quot;dex&quot;</td><td>null</td><td>null</td><td>&quot;https://uniswap.org&quot;</td><td>&quot;https://twitter.com/Uniswap&quot;</td><td>&quot;https://www.crunchbase.com/org…</td><td>&quot;https://www.linkedin.com/compa…</td></tr><tr><td>&quot;0x1d42064fc4beb5f8aaf85f4617ae…</td><td>&quot;bsc&quot;</td><td>false</td><td>null</td><td>null</td><td>null</td><td>null</td><td>null</td><td>null</td><td>null</td><td>&quot;Uniswap&quot;</td><td>null</td><td>&quot;uniswap&quot;</td><td>&quot;dex&quot;</td><td>null</td><td>null</td><td>&quot;https://uniswap.org&quot;</td><td>&quot;https://twitter.com/Uniswap&quot;</td><td>&quot;https://www.crunchbase.com/org…</td><td>&quot;https://www.linkedin.com/compa…</td></tr></tbody></table></div>"
      ],
      "text/plain": [
       "shape: (5, 20)\n",
       "┌────────────┬────────────┬──────────┬─────────┬───┬───────────┬───────────┬───────────┬───────────┐\n",
       "│ address    ┆ chain      ┆ contract ┆ tags_id ┆ … ┆ website   ┆ twitter   ┆ crunchbas ┆ linkedin  │\n",
       "│ ---        ┆ ---        ┆ ---      ┆ ---     ┆   ┆ ---       ┆ ---       ┆ e         ┆ ---       │\n",
       "│ str        ┆ str        ┆ bool     ┆ str     ┆   ┆ str       ┆ str       ┆ ---       ┆ str       │\n",
       "│            ┆            ┆          ┆         ┆   ┆           ┆           ┆ str       ┆           │\n",
       "╞════════════╪════════════╪══════════╪═════════╪═══╪═══════════╪═══════════╪═══════════╪═══════════╡\n",
       "│ 0x1d42064f ┆ arbitrum_o ┆ false    ┆ null    ┆ … ┆ https://u ┆ https://t ┆ https://w ┆ https://w │\n",
       "│ c4beb5f8aa ┆ ne         ┆          ┆         ┆   ┆ niswap.or ┆ witter.co ┆ ww.crunch ┆ ww.linked │\n",
       "│ f85f4617ae ┆            ┆          ┆         ┆   ┆ g         ┆ m/Uniswap ┆ base.com/ ┆ in.com/co │\n",
       "│ …          ┆            ┆          ┆         ┆   ┆           ┆           ┆ org…      ┆ mpa…      │\n",
       "│ 0x1d42064f ┆ avalanche  ┆ false    ┆ null    ┆ … ┆ https://u ┆ https://t ┆ https://w ┆ https://w │\n",
       "│ c4beb5f8aa ┆            ┆          ┆         ┆   ┆ niswap.or ┆ witter.co ┆ ww.crunch ┆ ww.linked │\n",
       "│ f85f4617ae ┆            ┆          ┆         ┆   ┆ g         ┆ m/Uniswap ┆ base.com/ ┆ in.com/co │\n",
       "│ …          ┆            ┆          ┆         ┆   ┆           ┆           ┆ org…      ┆ mpa…      │\n",
       "│ 0x1d42064f ┆ base       ┆ false    ┆ null    ┆ … ┆ https://u ┆ https://t ┆ https://w ┆ https://w │\n",
       "│ c4beb5f8aa ┆            ┆          ┆         ┆   ┆ niswap.or ┆ witter.co ┆ ww.crunch ┆ ww.linked │\n",
       "│ f85f4617ae ┆            ┆          ┆         ┆   ┆ g         ┆ m/Uniswap ┆ base.com/ ┆ in.com/co │\n",
       "│ …          ┆            ┆          ┆         ┆   ┆           ┆           ┆ org…      ┆ mpa…      │\n",
       "│ 0x1d42064f ┆ blast      ┆ false    ┆ null    ┆ … ┆ https://u ┆ https://t ┆ https://w ┆ https://w │\n",
       "│ c4beb5f8aa ┆            ┆          ┆         ┆   ┆ niswap.or ┆ witter.co ┆ ww.crunch ┆ ww.linked │\n",
       "│ f85f4617ae ┆            ┆          ┆         ┆   ┆ g         ┆ m/Uniswap ┆ base.com/ ┆ in.com/co │\n",
       "│ …          ┆            ┆          ┆         ┆   ┆           ┆           ┆ org…      ┆ mpa…      │\n",
       "│ 0x1d42064f ┆ bsc        ┆ false    ┆ null    ┆ … ┆ https://u ┆ https://t ┆ https://w ┆ https://w │\n",
       "│ c4beb5f8aa ┆            ┆          ┆         ┆   ┆ niswap.or ┆ witter.co ┆ ww.crunch ┆ ww.linked │\n",
       "│ f85f4617ae ┆            ┆          ┆         ┆   ┆ g         ┆ m/Uniswap ┆ base.com/ ┆ in.com/co │\n",
       "│ …          ┆            ┆          ┆         ┆   ┆           ┆           ┆ org…      ┆ mpa…      │\n",
       "└────────────┴────────────┴──────────┴─────────┴───┴───────────┴───────────┴───────────┴───────────┘"
      ]
     },
     "execution_count": 8,
     "metadata": {},
     "output_type": "execute_result"
    }
   ],
   "source": [
    "# Loading arkhdam addresses\n",
    "filedir = os.path.join(data_dir, \"labels\", \"arkham_labels.csv\")\n",
    "arkham_labels = pl.read_csv(filedir)\n",
    "arkham_labels.head()"
   ]
  },
  {
   "cell_type": "code",
   "execution_count": 9,
   "id": "d2718e71",
   "metadata": {},
   "outputs": [],
   "source": [
    "schema = pl.Schema([('block_time', pl.String),\n",
    "                    ('block_number', pl.Int64),\n",
    "                    ('value', pl.Float64),\n",
    "                    ('gas', pl.Int64),\n",
    "                    ('gas_used', pl.Int64),\n",
    "                    ('block_hash', pl.String),\n",
    "                    ('success', pl.Boolean),\n",
    "                    ('tx_index', pl.Int64),\n",
    "                    ('sub_traces', pl.Int64),\n",
    "                    ('error', pl.String),\n",
    "                    ('tx_success', pl.Boolean),\n",
    "                    ('tx_hash', pl.String),\n",
    "                    ('from', pl.String),\n",
    "                    ('to', pl.String),\n",
    "                    ('trace_address', pl.String),\n",
    "                    ('type', pl.String),\n",
    "                    ('address', pl.String),\n",
    "                    ('code', pl.String),\n",
    "                    ('call_type', pl.String),\n",
    "                    ('input', pl.String),\n",
    "                    ('output', pl.String),\n",
    "                    ('refund_address', pl.String),\n",
    "                    ('block_date', pl.String)])"
   ]
  },
  {
   "cell_type": "code",
   "execution_count": 10,
   "id": "876fdcfc",
   "metadata": {},
   "outputs": [
    {
     "name": "stdout",
     "output_type": "stream",
     "text": [
      "There are 28 columns and 212052 rows.\n"
     ]
    },
    {
     "data": {
      "text/html": [
       "<div><style>\n",
       ".dataframe > thead > tr,\n",
       ".dataframe > tbody > tr {\n",
       "  text-align: right;\n",
       "  white-space: pre-wrap;\n",
       "}\n",
       "</style>\n",
       "<small>shape: (5, 28)</small><table border=\"1\" class=\"dataframe\"><thead><tr><th>block_time</th><th>block_number</th><th>value</th><th>gas</th><th>gas_used</th><th>block_hash</th><th>success</th><th>tx_index</th><th>sub_traces</th><th>error</th><th>tx_success</th><th>tx_hash</th><th>from</th><th>to</th><th>trace_address</th><th>type</th><th>address</th><th>code</th><th>call_type</th><th>input</th><th>output</th><th>refund_address</th><th>block_date</th><th>to_label</th><th>from_label</th><th>function_selector</th><th>trace_depth</th><th>function_selector_label</th></tr><tr><td>datetime[μs]</td><td>i64</td><td>f64</td><td>i64</td><td>i64</td><td>str</td><td>bool</td><td>i64</td><td>i64</td><td>str</td><td>bool</td><td>str</td><td>str</td><td>str</td><td>str</td><td>str</td><td>str</td><td>str</td><td>str</td><td>str</td><td>str</td><td>str</td><td>str</td><td>str</td><td>str</td><td>str</td><td>i8</td><td>str</td></tr></thead><tbody><tr><td>2025-05-20 17:00:01</td><td>30485527</td><td>0.0</td><td>10500000</td><td>215430</td><td>&quot;0xcc299ee97244c721c649a8e18f10…</td><td>false</td><td>46</td><td>1</td><td>&quot;execution reverted&quot;</td><td>false</td><td>&quot;0x6aaa7e785df914943d12dfb0b825…</td><td>&quot;0xfe9d977baa824e683db0149cb80f…</td><td>&quot;0xd1a0d188e861ed9d15773a2f3574…</td><td>&quot;[]&quot;</td><td>&quot;call&quot;</td><td>null</td><td>null</td><td>&quot;call&quot;</td><td>&quot;0x64ee4b8000000000000000000000…</td><td>&quot;0x08c379a000000000000000000000…</td><td>null</td><td>&quot;2025-05-20&quot;</td><td>&quot;0xd1a0...ba8f&quot;</td><td>&quot;0xfe9d...640d&quot;</td><td>&quot;0x64ee4b80&quot;</td><td>0</td><td>&quot;gm(address,uint8)&quot;</td></tr><tr><td>2025-05-20 17:00:01</td><td>30485527</td><td>0.0</td><td>10309879</td><td>188903</td><td>&quot;0xcc299ee97244c721c649a8e18f10…</td><td>false</td><td>46</td><td>16</td><td>&quot;execution reverted&quot;</td><td>false</td><td>&quot;0x6aaa7e785df914943d12dfb0b825…</td><td>&quot;0xd1a0d188e861ed9d15773a2f3574…</td><td>&quot;0x5545a4ab5cd3f6e7db0883e73ea4…</td><td>&quot;[0]&quot;</td><td>&quot;call&quot;</td><td>null</td><td>null</td><td>&quot;delegatecall&quot;</td><td>&quot;0x64ee4b8000000000000000000000…</td><td>&quot;0x08c379a000000000000000000000…</td><td>null</td><td>&quot;2025-05-20&quot;</td><td>&quot;0x5545...70a9&quot;</td><td>&quot;0xd1a0...ba8f&quot;</td><td>&quot;0x64ee4b80&quot;</td><td>1</td><td>&quot;gm(address,uint8)&quot;</td></tr><tr><td>2025-05-20 17:00:01</td><td>30485527</td><td>null</td><td>10119325</td><td>8797</td><td>&quot;0xcc299ee97244c721c649a8e18f10…</td><td>false</td><td>46</td><td>1</td><td>null</td><td>false</td><td>&quot;0x6aaa7e785df914943d12dfb0b825…</td><td>&quot;0xd1a0d188e861ed9d15773a2f3574…</td><td>&quot;0x3e11001cfbb6de5737327c59e10a…</td><td>&quot;[0 0]&quot;</td><td>&quot;call&quot;</td><td>null</td><td>null</td><td>&quot;staticcall&quot;</td><td>&quot;0x9d63848a&quot;</td><td>&quot;0x0000000000000000000000000000…</td><td>null</td><td>&quot;2025-05-20&quot;</td><td>&quot;0x3e11...b5d3&quot;</td><td>&quot;0xd1a0...ba8f&quot;</td><td>&quot;0x9d63848a&quot;</td><td>2</td><td>&quot;tokens()&quot;</td></tr><tr><td>2025-05-20 17:00:01</td><td>30485527</td><td>null</td><td>10093763</td><td>6297</td><td>&quot;0xcc299ee97244c721c649a8e18f10…</td><td>false</td><td>46</td><td>1</td><td>null</td><td>false</td><td>&quot;0x6aaa7e785df914943d12dfb0b825…</td><td>&quot;0xd1a0d188e861ed9d15773a2f3574…</td><td>&quot;0x3e11226fe3d85142b734abce6e58…</td><td>&quot;[0 2]&quot;</td><td>&quot;call&quot;</td><td>null</td><td>null</td><td>&quot;staticcall&quot;</td><td>&quot;0x9d63848a&quot;</td><td>&quot;0x0000000000000000000000000000…</td><td>null</td><td>&quot;2025-05-20&quot;</td><td>&quot;0x3e11...d1b4&quot;</td><td>&quot;0xd1a0...ba8f&quot;</td><td>&quot;0x9d63848a&quot;</td><td>2</td><td>&quot;tokens()&quot;</td></tr><tr><td>2025-05-20 17:00:01</td><td>30485527</td><td>null</td><td>10083197</td><td>6309</td><td>&quot;0xcc299ee97244c721c649a8e18f10…</td><td>false</td><td>46</td><td>1</td><td>null</td><td>false</td><td>&quot;0x6aaa7e785df914943d12dfb0b825…</td><td>&quot;0xd1a0d188e861ed9d15773a2f3574…</td><td>&quot;0x3e1133ac082716ddc3114bbefeed…</td><td>&quot;[0 3]&quot;</td><td>&quot;call&quot;</td><td>null</td><td>null</td><td>&quot;staticcall&quot;</td><td>&quot;0x9d63848a&quot;</td><td>&quot;0x0000000000000000000000000000…</td><td>null</td><td>&quot;2025-05-20&quot;</td><td>&quot;0x3e11...9cb1&quot;</td><td>&quot;0xd1a0...ba8f&quot;</td><td>&quot;0x9d63848a&quot;</td><td>2</td><td>&quot;tokens()&quot;</td></tr></tbody></table></div>"
      ],
      "text/plain": [
       "shape: (5, 28)\n",
       "┌────────────┬────────────┬───────┬──────────┬───┬────────────┬────────────┬───────────┬───────────┐\n",
       "│ block_time ┆ block_numb ┆ value ┆ gas      ┆ … ┆ from_label ┆ function_s ┆ trace_dep ┆ function_ │\n",
       "│ ---        ┆ er         ┆ ---   ┆ ---      ┆   ┆ ---        ┆ elector    ┆ th        ┆ selector_ │\n",
       "│ datetime[μ ┆ ---        ┆ f64   ┆ i64      ┆   ┆ str        ┆ ---        ┆ ---       ┆ label     │\n",
       "│ s]         ┆ i64        ┆       ┆          ┆   ┆            ┆ str        ┆ i8        ┆ ---       │\n",
       "│            ┆            ┆       ┆          ┆   ┆            ┆            ┆           ┆ str       │\n",
       "╞════════════╪════════════╪═══════╪══════════╪═══╪════════════╪════════════╪═══════════╪═══════════╡\n",
       "│ 2025-05-20 ┆ 30485527   ┆ 0.0   ┆ 10500000 ┆ … ┆ 0xfe9d...6 ┆ 0x64ee4b80 ┆ 0         ┆ gm(addres │\n",
       "│ 17:00:01   ┆            ┆       ┆          ┆   ┆ 40d        ┆            ┆           ┆ s,uint8)  │\n",
       "│ 2025-05-20 ┆ 30485527   ┆ 0.0   ┆ 10309879 ┆ … ┆ 0xd1a0...b ┆ 0x64ee4b80 ┆ 1         ┆ gm(addres │\n",
       "│ 17:00:01   ┆            ┆       ┆          ┆   ┆ a8f        ┆            ┆           ┆ s,uint8)  │\n",
       "│ 2025-05-20 ┆ 30485527   ┆ null  ┆ 10119325 ┆ … ┆ 0xd1a0...b ┆ 0x9d63848a ┆ 2         ┆ tokens()  │\n",
       "│ 17:00:01   ┆            ┆       ┆          ┆   ┆ a8f        ┆            ┆           ┆           │\n",
       "│ 2025-05-20 ┆ 30485527   ┆ null  ┆ 10093763 ┆ … ┆ 0xd1a0...b ┆ 0x9d63848a ┆ 2         ┆ tokens()  │\n",
       "│ 17:00:01   ┆            ┆       ┆          ┆   ┆ a8f        ┆            ┆           ┆           │\n",
       "│ 2025-05-20 ┆ 30485527   ┆ null  ┆ 10083197 ┆ … ┆ 0xd1a0...b ┆ 0x9d63848a ┆ 2         ┆ tokens()  │\n",
       "│ 17:00:01   ┆            ┆       ┆          ┆   ┆ a8f        ┆            ┆           ┆           │\n",
       "└────────────┴────────────┴───────┴──────────┴───┴────────────┴────────────┴───────────┴───────────┘"
      ]
     },
     "execution_count": 10,
     "metadata": {},
     "output_type": "execute_result"
    }
   ],
   "source": [
    "import ast\n",
    "def selector_to_signature(sel: str) -> str:\n",
    "    v = f_selector_dict.get(sel)\n",
    "    if isinstance(v, dict):\n",
    "        sig = v.get(\"signature\")\n",
    "        return sig if isinstance(sig, str) else \"\"\n",
    "    return \"\"\n",
    "\n",
    "filedir = os.path.join(data_dir, \"base-revert-traces.csv\")\n",
    "df = pl.scan_csv(filedir, schema=schema)\n",
    "df = df.with_columns(\n",
    "    pl.col(\"block_time\").str.strptime(\n",
    "        pl.Datetime(), \"%Y-%m-%d %H:%M:%S%.3f UTC\"),\n",
    "    to_label=pl.col(\"to\").map_elements(\n",
    "        lambda x: labels.get(x, x[:6]+\"...\"+x[-4:]), return_dtype=pl.String),\n",
    "    from_label=pl.col(\"from\").map_elements(\n",
    "        lambda x: labels.get(x, x[:6]+\"...\"+x[-4:]), return_dtype=pl.String),\n",
    "    function_selector=pl.col(\"input\").str.slice(0, 10),\n",
    "    trace_depth=pl.col(\"trace_address\").map_elements(lambda x: 0 if (\n",
    "        x == \"\" or x == \"[]\") else x.count(\" \") + 1, return_dtype=pl.Int8)\n",
    ").with_columns(function_selector_label=pl.col('function_selector').map_elements(selector_to_signature, return_dtype=pl.String))\n",
    "# Group by transaction and sort by trace depth (to reconstruct call flow)\n",
    "df = df.sort([\"block_number\", \"tx_index\", \"tx_hash\", \"trace_depth\"])\n",
    "\n",
    "print(\"There are {} columns and {} rows.\".format(\n",
    "    len(df.collect_schema()), df.select(pl.len()).collect().item()))\n",
    "df.head().collect()"
   ]
  },
  {
   "cell_type": "code",
   "execution_count": 11,
   "id": "f75ca5f6",
   "metadata": {},
   "outputs": [
    {
     "name": "stdout",
     "output_type": "stream",
     "text": [
      "There are 4378 unique addresses\n"
     ]
    }
   ],
   "source": [
    "data_addresses = set(df.select('from').unique().collect()[\n",
    "                     'from'].to_list() + df.select('to').unique().collect()['to'].to_list())\n",
    "print(\"There are {} unique addresses\".format(len(data_addresses)))"
   ]
  },
  {
   "cell_type": "code",
   "execution_count": 12,
   "id": "d284d751",
   "metadata": {},
   "outputs": [
    {
     "data": {
      "text/html": [
       "<div><style>\n",
       ".dataframe > thead > tr,\n",
       ".dataframe > tbody > tr {\n",
       "  text-align: right;\n",
       "  white-space: pre-wrap;\n",
       "}\n",
       "</style>\n",
       "<small>shape: (22, 2)</small><table border=\"1\" class=\"dataframe\"><thead><tr><th>address</th><th>name</th></tr><tr><td>str</td><td>str</td></tr></thead><tbody><tr><td>&quot;0xad01c20d5886137e056775af5691…</td><td>null</td></tr><tr><td>&quot;0x1111111254eeb25477b68fb85ed9…</td><td>&quot;1inch&quot;</td></tr><tr><td>&quot;0x1231deb6f5749ef6ce6943a275a1…</td><td>&quot;LiFi&quot;</td></tr><tr><td>&quot;0x111111125421ca6dc452d2893142…</td><td>&quot;1inch&quot;</td></tr><tr><td>&quot;0xd7f1dd5d49206349cae8b585fcb0…</td><td>&quot;Zerion&quot;</td></tr><tr><td>&hellip;</td><td>&hellip;</td></tr><tr><td>&quot;0x3a23f943181408eac424116af7b7…</td><td>&quot;Socket&quot;</td></tr><tr><td>&quot;0xc35dadb65012ec5796536bd9864e…</td><td>&quot;SushiSwap&quot;</td></tr><tr><td>&quot;0xba12222222228d8ba445958a75a0…</td><td>&quot;Beets&quot;</td></tr><tr><td>&quot;0x00000000009726632680fb29d3f7…</td><td>&quot;Rainbow.me&quot;</td></tr><tr><td>&quot;0xba12222222228d8ba445958a75a0…</td><td>&quot;Fjord Foundry&quot;</td></tr></tbody></table></div>"
      ],
      "text/plain": [
       "shape: (22, 2)\n",
       "┌─────────────────────────────────┬───────────────┐\n",
       "│ address                         ┆ name          │\n",
       "│ ---                             ┆ ---           │\n",
       "│ str                             ┆ str           │\n",
       "╞═════════════════════════════════╪═══════════════╡\n",
       "│ 0xad01c20d5886137e056775af5691… ┆ null          │\n",
       "│ 0x1111111254eeb25477b68fb85ed9… ┆ 1inch         │\n",
       "│ 0x1231deb6f5749ef6ce6943a275a1… ┆ LiFi          │\n",
       "│ 0x111111125421ca6dc452d2893142… ┆ 1inch         │\n",
       "│ 0xd7f1dd5d49206349cae8b585fcb0… ┆ Zerion        │\n",
       "│ …                               ┆ …             │\n",
       "│ 0x3a23f943181408eac424116af7b7… ┆ Socket        │\n",
       "│ 0xc35dadb65012ec5796536bd9864e… ┆ SushiSwap     │\n",
       "│ 0xba12222222228d8ba445958a75a0… ┆ Beets         │\n",
       "│ 0x00000000009726632680fb29d3f7… ┆ Rainbow.me    │\n",
       "│ 0xba12222222228d8ba445958a75a0… ┆ Fjord Foundry │\n",
       "└─────────────────────────────────┴───────────────┘"
      ]
     },
     "execution_count": 12,
     "metadata": {},
     "output_type": "execute_result"
    }
   ],
   "source": [
    "arkham_labels.filter(pl.col(\"address\").is_in(data_addresses)\n",
    "                     ).select(['address', 'name']).unique()"
   ]
  },
  {
   "cell_type": "code",
   "execution_count": 13,
   "id": "cbf45719",
   "metadata": {},
   "outputs": [
    {
     "data": {
      "text/html": [
       "<div><style>\n",
       ".dataframe > thead > tr,\n",
       ".dataframe > tbody > tr {\n",
       "  text-align: right;\n",
       "  white-space: pre-wrap;\n",
       "}\n",
       "</style>\n",
       "<small>shape: (2_690, 1)</small><table border=\"1\" class=\"dataframe\"><thead><tr><th>value</th></tr><tr><td>struct[2]</td></tr></thead><tbody><tr><td>{4.9571e15,2}</td></tr><tr><td>{2.0039e17,2}</td></tr><tr><td>{5.5254e11,2}</td></tr><tr><td>{4.2685e11,2}</td></tr><tr><td>{1.4526e11,2}</td></tr><tr><td>&hellip;</td></tr><tr><td>{3.3255e11,2}</td></tr><tr><td>{1.6468e11,2}</td></tr><tr><td>{4.5280e11,2}</td></tr><tr><td>{6.1919e10,2}</td></tr><tr><td>{1.4957e11,2}</td></tr></tbody></table></div>"
      ],
      "text/plain": [
       "shape: (2_690, 1)\n",
       "┌───────────────┐\n",
       "│ value         │\n",
       "│ ---           │\n",
       "│ struct[2]     │\n",
       "╞═══════════════╡\n",
       "│ {4.9571e15,2} │\n",
       "│ {2.0039e17,2} │\n",
       "│ {5.5254e11,2} │\n",
       "│ {4.2685e11,2} │\n",
       "│ {1.4526e11,2} │\n",
       "│ …             │\n",
       "│ {3.3255e11,2} │\n",
       "│ {1.6468e11,2} │\n",
       "│ {4.5280e11,2} │\n",
       "│ {6.1919e10,2} │\n",
       "│ {1.4957e11,2} │\n",
       "└───────────────┘"
      ]
     },
     "execution_count": 13,
     "metadata": {},
     "output_type": "execute_result"
    }
   ],
   "source": [
    "df.select(pl.col(\"value\").value_counts()).collect()"
   ]
  },
  {
   "cell_type": "code",
   "execution_count": 14,
   "id": "5459cbff",
   "metadata": {},
   "outputs": [
    {
     "data": {
      "text/plain": [
       "[0, 2]"
      ]
     },
     "execution_count": 14,
     "metadata": {},
     "output_type": "execute_result"
    }
   ],
   "source": [
    "ast.literal_eval(\"[0 2]\".replace(' ', ','))"
   ]
  },
  {
   "cell_type": "code",
   "execution_count": 15,
   "id": "bec4897d",
   "metadata": {},
   "outputs": [
    {
     "data": {
      "text/html": [
       "<div><style>\n",
       ".dataframe > thead > tr,\n",
       ".dataframe > tbody > tr {\n",
       "  text-align: right;\n",
       "  white-space: pre-wrap;\n",
       "}\n",
       "</style>\n",
       "<small>shape: (4, 2)</small><table border=\"1\" class=\"dataframe\"><thead><tr><th>call_type</th><th>len</th></tr><tr><td>str</td><td>u32</td></tr></thead><tbody><tr><td>&quot;staticcall&quot;</td><td>83323</td></tr><tr><td>&quot;call&quot;</td><td>81544</td></tr><tr><td>&quot;delegatecall&quot;</td><td>47184</td></tr><tr><td>null</td><td>1</td></tr></tbody></table></div>"
      ],
      "text/plain": [
       "shape: (4, 2)\n",
       "┌──────────────┬───────┐\n",
       "│ call_type    ┆ len   │\n",
       "│ ---          ┆ ---   │\n",
       "│ str          ┆ u32   │\n",
       "╞══════════════╪═══════╡\n",
       "│ staticcall   ┆ 83323 │\n",
       "│ call         ┆ 81544 │\n",
       "│ delegatecall ┆ 47184 │\n",
       "│ null         ┆ 1     │\n",
       "└──────────────┴───────┘"
      ]
     },
     "execution_count": 15,
     "metadata": {},
     "output_type": "execute_result"
    }
   ],
   "source": [
    "df.group_by(\"call_type\").agg(pl.len()).sort(\n",
    "    by=\"len\", descending=True).collect()"
   ]
  },
  {
   "cell_type": "code",
   "execution_count": 16,
   "id": "9a1ed117",
   "metadata": {},
   "outputs": [
    {
     "data": {
      "text/html": [
       "<div><style>\n",
       ".dataframe > thead > tr,\n",
       ".dataframe > tbody > tr {\n",
       "  text-align: right;\n",
       "  white-space: pre-wrap;\n",
       "}\n",
       "</style>\n",
       "<small>shape: (10, 2)</small><table border=\"1\" class=\"dataframe\"><thead><tr><th>error</th><th>len</th></tr><tr><td>str</td><td>u32</td></tr></thead><tbody><tr><td>null</td><td>182415</td></tr><tr><td>&quot;execution reverted&quot;</td><td>29001</td></tr><tr><td>&quot;out of gas&quot;</td><td>499</td></tr><tr><td>&quot;ReentrancySentryOOG&quot;</td><td>56</td></tr><tr><td>&quot;out of gas: not enough gas for…</td><td>55</td></tr><tr><td>&quot;insufficient balance for trans…</td><td>12</td></tr><tr><td>&quot;write protection&quot;</td><td>8</td></tr><tr><td>&quot;StateChangeDuringStaticCall&quot;</td><td>3</td></tr><tr><td>&quot;out of gas: out of gas&quot;</td><td>2</td></tr><tr><td>&quot;CreateCollision&quot;</td><td>1</td></tr></tbody></table></div>"
      ],
      "text/plain": [
       "shape: (10, 2)\n",
       "┌─────────────────────────────────┬────────┐\n",
       "│ error                           ┆ len    │\n",
       "│ ---                             ┆ ---    │\n",
       "│ str                             ┆ u32    │\n",
       "╞═════════════════════════════════╪════════╡\n",
       "│ null                            ┆ 182415 │\n",
       "│ execution reverted              ┆ 29001  │\n",
       "│ out of gas                      ┆ 499    │\n",
       "│ ReentrancySentryOOG             ┆ 56     │\n",
       "│ out of gas: not enough gas for… ┆ 55     │\n",
       "│ insufficient balance for trans… ┆ 12     │\n",
       "│ write protection                ┆ 8      │\n",
       "│ StateChangeDuringStaticCall     ┆ 3      │\n",
       "│ out of gas: out of gas          ┆ 2      │\n",
       "│ CreateCollision                 ┆ 1      │\n",
       "└─────────────────────────────────┴────────┘"
      ]
     },
     "execution_count": 16,
     "metadata": {},
     "output_type": "execute_result"
    }
   ],
   "source": [
    "df.group_by(\"error\").agg(pl.len()).sort(\n",
    "    by=\"len\", descending=True).collect()"
   ]
  },
  {
   "cell_type": "code",
   "execution_count": 17,
   "id": "b7fc9c08",
   "metadata": {},
   "outputs": [
    {
     "data": {
      "text/html": [
       "<div><style>\n",
       ".dataframe > thead > tr,\n",
       ".dataframe > tbody > tr {\n",
       "  text-align: right;\n",
       "  white-space: pre-wrap;\n",
       "}\n",
       "</style>\n",
       "<small>shape: (1, 2)</small><table border=\"1\" class=\"dataframe\"><thead><tr><th>address</th><th>len</th></tr><tr><td>str</td><td>u32</td></tr></thead><tbody><tr><td>null</td><td>212052</td></tr></tbody></table></div>"
      ],
      "text/plain": [
       "shape: (1, 2)\n",
       "┌─────────┬────────┐\n",
       "│ address ┆ len    │\n",
       "│ ---     ┆ ---    │\n",
       "│ str     ┆ u32    │\n",
       "╞═════════╪════════╡\n",
       "│ null    ┆ 212052 │\n",
       "└─────────┴────────┘"
      ]
     },
     "execution_count": 17,
     "metadata": {},
     "output_type": "execute_result"
    }
   ],
   "source": [
    "df.group_by(\"address\").agg(pl.len()).sort(\n",
    "    by=\"len\", descending=True).collect()"
   ]
  },
  {
   "cell_type": "code",
   "execution_count": 18,
   "id": "8c68f1ed",
   "metadata": {},
   "outputs": [
    {
     "data": {
      "text/html": [
       "<div><style>\n",
       ".dataframe > thead > tr,\n",
       ".dataframe > tbody > tr {\n",
       "  text-align: right;\n",
       "  white-space: pre-wrap;\n",
       "}\n",
       "</style>\n",
       "<small>shape: (1, 2)</small><table border=\"1\" class=\"dataframe\"><thead><tr><th>success</th><th>len</th></tr><tr><td>bool</td><td>u32</td></tr></thead><tbody><tr><td>false</td><td>212052</td></tr></tbody></table></div>"
      ],
      "text/plain": [
       "shape: (1, 2)\n",
       "┌─────────┬────────┐\n",
       "│ success ┆ len    │\n",
       "│ ---     ┆ ---    │\n",
       "│ bool    ┆ u32    │\n",
       "╞═════════╪════════╡\n",
       "│ false   ┆ 212052 │\n",
       "└─────────┴────────┘"
      ]
     },
     "execution_count": 18,
     "metadata": {},
     "output_type": "execute_result"
    }
   ],
   "source": [
    "# There are only failed traces\n",
    "df.group_by(\"success\").agg(pl.len()).collect()"
   ]
  },
  {
   "cell_type": "code",
   "execution_count": 19,
   "id": "ca68185e",
   "metadata": {},
   "outputs": [
    {
     "data": {
      "text/html": [
       "<div><style>\n",
       ".dataframe > thead > tr,\n",
       ".dataframe > tbody > tr {\n",
       "  text-align: right;\n",
       "  white-space: pre-wrap;\n",
       "}\n",
       "</style>\n",
       "<small>shape: (1, 2)</small><table border=\"1\" class=\"dataframe\"><thead><tr><th>tx_success</th><th>len</th></tr><tr><td>bool</td><td>u32</td></tr></thead><tbody><tr><td>false</td><td>212052</td></tr></tbody></table></div>"
      ],
      "text/plain": [
       "shape: (1, 2)\n",
       "┌────────────┬────────┐\n",
       "│ tx_success ┆ len    │\n",
       "│ ---        ┆ ---    │\n",
       "│ bool       ┆ u32    │\n",
       "╞════════════╪════════╡\n",
       "│ false      ┆ 212052 │\n",
       "└────────────┴────────┘"
      ]
     },
     "execution_count": 19,
     "metadata": {},
     "output_type": "execute_result"
    }
   ],
   "source": [
    "# There are only failed traces\n",
    "df.group_by(\"tx_success\").agg(pl.len()).collect()"
   ]
  },
  {
   "cell_type": "code",
   "execution_count": 20,
   "id": "9492abbf",
   "metadata": {},
   "outputs": [
    {
     "data": {
      "text/html": [
       "<div><style>\n",
       ".dataframe > thead > tr,\n",
       ".dataframe > tbody > tr {\n",
       "  text-align: right;\n",
       "  white-space: pre-wrap;\n",
       "}\n",
       "</style>\n",
       "<small>shape: (10, 2)</small><table border=\"1\" class=\"dataframe\"><thead><tr><th>from_label</th><th>len</th></tr><tr><td>str</td><td>u32</td></tr></thead><tbody><tr><td>&quot;0xb7b8...f463&quot;</td><td>37058</td></tr><tr><td>&quot;USDC (USDC)&quot;</td><td>22011</td></tr><tr><td>&quot;Uniswap V4: Pool Manager&quot;</td><td>9172</td></tr><tr><td>&quot;0xad4f...915d&quot;</td><td>4488</td></tr><tr><td>&quot;0x2a84...795b&quot;</td><td>4433</td></tr><tr><td>&quot;KyberSwap: Aggregator Executor&quot;</td><td>4426</td></tr><tr><td>&quot;0x4f1c...d037&quot;</td><td>4016</td></tr><tr><td>&quot;0x5e7b...809a&quot;</td><td>4003</td></tr><tr><td>&quot;0xdb45...6b5d&quot;</td><td>2832</td></tr><tr><td>&quot;0x72ab...2d38&quot;</td><td>2286</td></tr></tbody></table></div>"
      ],
      "text/plain": [
       "shape: (10, 2)\n",
       "┌────────────────────────────────┬───────┐\n",
       "│ from_label                     ┆ len   │\n",
       "│ ---                            ┆ ---   │\n",
       "│ str                            ┆ u32   │\n",
       "╞════════════════════════════════╪═══════╡\n",
       "│ 0xb7b8...f463                  ┆ 37058 │\n",
       "│ USDC (USDC)                    ┆ 22011 │\n",
       "│ Uniswap V4: Pool Manager       ┆ 9172  │\n",
       "│ 0xad4f...915d                  ┆ 4488  │\n",
       "│ 0x2a84...795b                  ┆ 4433  │\n",
       "│ KyberSwap: Aggregator Executor ┆ 4426  │\n",
       "│ 0x4f1c...d037                  ┆ 4016  │\n",
       "│ 0x5e7b...809a                  ┆ 4003  │\n",
       "│ 0xdb45...6b5d                  ┆ 2832  │\n",
       "│ 0x72ab...2d38                  ┆ 2286  │\n",
       "└────────────────────────────────┴───────┘"
      ]
     },
     "execution_count": 20,
     "metadata": {},
     "output_type": "execute_result"
    }
   ],
   "source": [
    "df.group_by(\"from_label\").agg(pl.len()).sort(\n",
    "    by=\"len\", descending=True).head(10).collect()"
   ]
  },
  {
   "cell_type": "code",
   "execution_count": 21,
   "id": "eea15d4f",
   "metadata": {},
   "outputs": [
    {
     "data": {
      "text/html": [
       "<div><style>\n",
       ".dataframe > thead > tr,\n",
       ".dataframe > tbody > tr {\n",
       "  text-align: right;\n",
       "  white-space: pre-wrap;\n",
       "}\n",
       "</style>\n",
       "<small>shape: (10, 2)</small><table border=\"1\" class=\"dataframe\"><thead><tr><th>to_label</th><th>len</th></tr><tr><td>str</td><td>u32</td></tr></thead><tbody><tr><td>&quot;Circle&quot;</td><td>22103</td></tr><tr><td>&quot;USDC (USDC)&quot;</td><td>21997</td></tr><tr><td>&quot;Wrapped Ether (WETH)&quot;</td><td>20714</td></tr><tr><td>&quot;Uniswap V4: Pool Manager&quot;</td><td>18415</td></tr><tr><td>&quot;0xb7b8...f463&quot;</td><td>10172</td></tr><tr><td>&quot;0xec8e...5831&quot;</td><td>6855</td></tr><tr><td>&quot;0x5e7b...809a&quot;</td><td>3129</td></tr><tr><td>&quot;Coinbase Wrapped BTC (cbBTC)&quot;</td><td>1930</td></tr><tr><td>&quot;0x7458...aa72&quot;</td><td>1929</td></tr><tr><td>&quot;Aerodrome: Voter&quot;</td><td>1864</td></tr></tbody></table></div>"
      ],
      "text/plain": [
       "shape: (10, 2)\n",
       "┌──────────────────────────────┬───────┐\n",
       "│ to_label                     ┆ len   │\n",
       "│ ---                          ┆ ---   │\n",
       "│ str                          ┆ u32   │\n",
       "╞══════════════════════════════╪═══════╡\n",
       "│ Circle                       ┆ 22103 │\n",
       "│ USDC (USDC)                  ┆ 21997 │\n",
       "│ Wrapped Ether (WETH)         ┆ 20714 │\n",
       "│ Uniswap V4: Pool Manager     ┆ 18415 │\n",
       "│ 0xb7b8...f463                ┆ 10172 │\n",
       "│ 0xec8e...5831                ┆ 6855  │\n",
       "│ 0x5e7b...809a                ┆ 3129  │\n",
       "│ Coinbase Wrapped BTC (cbBTC) ┆ 1930  │\n",
       "│ 0x7458...aa72                ┆ 1929  │\n",
       "│ Aerodrome: Voter             ┆ 1864  │\n",
       "└──────────────────────────────┴───────┘"
      ]
     },
     "execution_count": 21,
     "metadata": {},
     "output_type": "execute_result"
    }
   ],
   "source": [
    "df.group_by(\"to_label\").agg(pl.len()).sort(\n",
    "    by=\"len\", descending=True).head(10).collect()"
   ]
  },
  {
   "cell_type": "code",
   "execution_count": 22,
   "id": "e4997465",
   "metadata": {},
   "outputs": [
    {
     "data": {
      "text/html": [
       "<div><style>\n",
       ".dataframe > thead > tr,\n",
       ".dataframe > tbody > tr {\n",
       "  text-align: right;\n",
       "  white-space: pre-wrap;\n",
       "}\n",
       "</style>\n",
       "<small>shape: (10, 3)</small><table border=\"1\" class=\"dataframe\"><thead><tr><th>from_label</th><th>to_label</th><th>len</th></tr><tr><td>str</td><td>str</td><td>u32</td></tr></thead><tbody><tr><td>&quot;USDC (USDC)&quot;</td><td>&quot;Circle&quot;</td><td>21983</td></tr><tr><td>&quot;0xb7b8...f463&quot;</td><td>&quot;Uniswap V4: Pool Manager&quot;</td><td>16370</td></tr><tr><td>&quot;0xb7b8...f463&quot;</td><td>&quot;Wrapped Ether (WETH)&quot;</td><td>9763</td></tr><tr><td>&quot;0xb7b8...f463&quot;</td><td>&quot;USDC (USDC)&quot;</td><td>9087</td></tr><tr><td>&quot;Uniswap V4: Pool Manager&quot;</td><td>&quot;0xb7b8...f463&quot;</td><td>4131</td></tr><tr><td>&quot;Uniswap V4: Pool Manager&quot;</td><td>&quot;USDC (USDC)&quot;</td><td>3915</td></tr><tr><td>&quot;Coinbase Wrapped BTC (cbBTC)&quot;</td><td>&quot;0x7458...aa72&quot;</td><td>1929</td></tr><tr><td>&quot;0x5e7b...809a&quot;</td><td>&quot;Aerodrome: Voter&quot;</td><td>1824</td></tr><tr><td>&quot;USD Base Coin (USDbC)&quot;</td><td>&quot;0x1833...b463&quot;</td><td>1823</td></tr><tr><td>&quot;0x9fac...06c5&quot;</td><td>&quot;BMX: Vault&quot;</td><td>1497</td></tr></tbody></table></div>"
      ],
      "text/plain": [
       "shape: (10, 3)\n",
       "┌──────────────────────────────┬──────────────────────────┬───────┐\n",
       "│ from_label                   ┆ to_label                 ┆ len   │\n",
       "│ ---                          ┆ ---                      ┆ ---   │\n",
       "│ str                          ┆ str                      ┆ u32   │\n",
       "╞══════════════════════════════╪══════════════════════════╪═══════╡\n",
       "│ USDC (USDC)                  ┆ Circle                   ┆ 21983 │\n",
       "│ 0xb7b8...f463                ┆ Uniswap V4: Pool Manager ┆ 16370 │\n",
       "│ 0xb7b8...f463                ┆ Wrapped Ether (WETH)     ┆ 9763  │\n",
       "│ 0xb7b8...f463                ┆ USDC (USDC)              ┆ 9087  │\n",
       "│ Uniswap V4: Pool Manager     ┆ 0xb7b8...f463            ┆ 4131  │\n",
       "│ Uniswap V4: Pool Manager     ┆ USDC (USDC)              ┆ 3915  │\n",
       "│ Coinbase Wrapped BTC (cbBTC) ┆ 0x7458...aa72            ┆ 1929  │\n",
       "│ 0x5e7b...809a                ┆ Aerodrome: Voter         ┆ 1824  │\n",
       "│ USD Base Coin (USDbC)        ┆ 0x1833...b463            ┆ 1823  │\n",
       "│ 0x9fac...06c5                ┆ BMX: Vault               ┆ 1497  │\n",
       "└──────────────────────────────┴──────────────────────────┴───────┘"
      ]
     },
     "execution_count": 22,
     "metadata": {},
     "output_type": "execute_result"
    }
   ],
   "source": [
    "df.group_by([\"from_label\", \"to_label\"]).agg(pl.len()).sort(\n",
    "    by=\"len\", descending=True).head(10).collect()"
   ]
  },
  {
   "cell_type": "code",
   "execution_count": 23,
   "id": "388cf2c5",
   "metadata": {},
   "outputs": [
    {
     "name": "stdout",
     "output_type": "stream",
     "text": [
      "False 0x6aaa7e785df914943d12dfb0b825b5d43f196b96eb84b605d525405a027b697c 0xfe9d...640d -> 0xd1a0...ba8f\n",
      "False 0x6aaa7e785df914943d12dfb0b825b5d43f196b96eb84b605d525405a027b697c 0xd1a0...ba8f -> 0x5545...70a9\n",
      "False 0x6aaa7e785df914943d12dfb0b825b5d43f196b96eb84b605d525405a027b697c 0xd1a0...ba8f -> 0x3e11...b5d3\n",
      "False 0x6aaa7e785df914943d12dfb0b825b5d43f196b96eb84b605d525405a027b697c 0xd1a0...ba8f -> 0x3e11...d1b4\n",
      "False 0x6aaa7e785df914943d12dfb0b825b5d43f196b96eb84b605d525405a027b697c 0xd1a0...ba8f -> 0x3e11...9cb1\n",
      "False 0x6aaa7e785df914943d12dfb0b825b5d43f196b96eb84b605d525405a027b697c 0xd1a0...ba8f -> 0x3e11...e6c9\n",
      "False 0x6aaa7e785df914943d12dfb0b825b5d43f196b96eb84b605d525405a027b697c 0xd1a0...ba8f -> Pinto (PINTO)\n",
      "False 0x6aaa7e785df914943d12dfb0b825b5d43f196b96eb84b605d525405a027b697c 0xd1a0...ba8f -> 0x3e11...b5d3\n",
      "False 0x6aaa7e785df914943d12dfb0b825b5d43f196b96eb84b605d525405a027b697c 0xd1a0...ba8f -> 0x3e11...dbf1\n",
      "False 0x6aaa7e785df914943d12dfb0b825b5d43f196b96eb84b605d525405a027b697c 0xd1a0...ba8f -> 0x3e11...d1b4\n"
     ]
    }
   ],
   "source": [
    "data = df.head(10).collect()\n",
    "for row in data.iter_rows(named=True):\n",
    "    print(row[\"tx_success\"], row['tx_hash'],\n",
    "          row[\"from_label\"], \"->\", row[\"to_label\"])"
   ]
  },
  {
   "cell_type": "code",
   "execution_count": 24,
   "id": "bf1f1f48",
   "metadata": {},
   "outputs": [],
   "source": [
    "column = \"from\"\n",
    "data = (df\n",
    "        .filter(pl.col('to_label').eq(\"Unknown\") | pl.col(\"from_label\").eq(\"Unknown\"))\n",
    "        .group_by(column)\n",
    "        .agg(pl.len().alias('freq'))\n",
    "        .sort(by='freq', descending=True).head(40).collect())\n",
    "for row in data.iter_rows(named=True):\n",
    "    print(row[column], row['freq'])"
   ]
  },
  {
   "cell_type": "code",
   "execution_count": 25,
   "id": "2a5160e2",
   "metadata": {},
   "outputs": [
    {
     "data": {
      "text/html": [
       "<div><style>\n",
       ".dataframe > thead > tr,\n",
       ".dataframe > tbody > tr {\n",
       "  text-align: right;\n",
       "  white-space: pre-wrap;\n",
       "}\n",
       "</style>\n",
       "<small>shape: (10, 2)</small><table border=\"1\" class=\"dataframe\"><thead><tr><th>function_selector</th><th>len</th></tr><tr><td>str</td><td>u32</td></tr></thead><tbody><tr><td>&quot;0x70a08231&quot;</td><td>56944</td></tr><tr><td>&quot;0xa9059cbb&quot;</td><td>21522</td></tr><tr><td>&quot;0x128acb08&quot;</td><td>7903</td></tr><tr><td>&quot;0x3850c7bd&quot;</td><td>7323</td></tr><tr><td>&quot;0x23b872dd&quot;</td><td>6100</td></tr><tr><td>&quot;0xf135baaa&quot;</td><td>4607</td></tr><tr><td>&quot;0x48c89491&quot;</td><td>3724</td></tr><tr><td>&quot;0x91dd7346&quot;</td><td>3453</td></tr><tr><td>&quot;0xf3cd914c&quot;</td><td>3280</td></tr><tr><td>&quot;0xd0c93a7c&quot;</td><td>3006</td></tr></tbody></table></div>"
      ],
      "text/plain": [
       "shape: (10, 2)\n",
       "┌───────────────────┬───────┐\n",
       "│ function_selector ┆ len   │\n",
       "│ ---               ┆ ---   │\n",
       "│ str               ┆ u32   │\n",
       "╞═══════════════════╪═══════╡\n",
       "│ 0x70a08231        ┆ 56944 │\n",
       "│ 0xa9059cbb        ┆ 21522 │\n",
       "│ 0x128acb08        ┆ 7903  │\n",
       "│ 0x3850c7bd        ┆ 7323  │\n",
       "│ 0x23b872dd        ┆ 6100  │\n",
       "│ 0xf135baaa        ┆ 4607  │\n",
       "│ 0x48c89491        ┆ 3724  │\n",
       "│ 0x91dd7346        ┆ 3453  │\n",
       "│ 0xf3cd914c        ┆ 3280  │\n",
       "│ 0xd0c93a7c        ┆ 3006  │\n",
       "└───────────────────┴───────┘"
      ]
     },
     "execution_count": 25,
     "metadata": {},
     "output_type": "execute_result"
    }
   ],
   "source": [
    "# Hex-encoded input data. The first 4 bytes (8 hex chars) are the function selector\n",
    "(df\n",
    " .group_by(\"function_selector\")\n",
    " .agg(pl.len())\n",
    " .sort(by=\"len\", descending=True)\n",
    " .head(10)\n",
    " ).collect()"
   ]
  },
  {
   "cell_type": "code",
   "execution_count": 26,
   "id": "0bfc0dc6",
   "metadata": {},
   "outputs": [
    {
     "data": {
      "text/html": [
       "<div><style>\n",
       ".dataframe > thead > tr,\n",
       ".dataframe > tbody > tr {\n",
       "  text-align: right;\n",
       "  white-space: pre-wrap;\n",
       "}\n",
       "</style>\n",
       "<small>shape: (10, 2)</small><table border=\"1\" class=\"dataframe\"><thead><tr><th>to_label</th><th>len</th></tr><tr><td>str</td><td>u32</td></tr></thead><tbody><tr><td>&quot;Circle&quot;</td><td>22103</td></tr><tr><td>&quot;USDC (USDC)&quot;</td><td>21997</td></tr><tr><td>&quot;Wrapped Ether (WETH)&quot;</td><td>20714</td></tr><tr><td>&quot;Uniswap V4: Pool Manager&quot;</td><td>18415</td></tr><tr><td>&quot;0xb7b8...f463&quot;</td><td>10172</td></tr><tr><td>&quot;0xec8e...5831&quot;</td><td>6855</td></tr><tr><td>&quot;0x5e7b...809a&quot;</td><td>3129</td></tr><tr><td>&quot;Coinbase Wrapped BTC (cbBTC)&quot;</td><td>1930</td></tr><tr><td>&quot;0x7458...aa72&quot;</td><td>1929</td></tr><tr><td>&quot;Aerodrome: Voter&quot;</td><td>1864</td></tr></tbody></table></div>"
      ],
      "text/plain": [
       "shape: (10, 2)\n",
       "┌──────────────────────────────┬───────┐\n",
       "│ to_label                     ┆ len   │\n",
       "│ ---                          ┆ ---   │\n",
       "│ str                          ┆ u32   │\n",
       "╞══════════════════════════════╪═══════╡\n",
       "│ Circle                       ┆ 22103 │\n",
       "│ USDC (USDC)                  ┆ 21997 │\n",
       "│ Wrapped Ether (WETH)         ┆ 20714 │\n",
       "│ Uniswap V4: Pool Manager     ┆ 18415 │\n",
       "│ 0xb7b8...f463                ┆ 10172 │\n",
       "│ 0xec8e...5831                ┆ 6855  │\n",
       "│ 0x5e7b...809a                ┆ 3129  │\n",
       "│ Coinbase Wrapped BTC (cbBTC) ┆ 1930  │\n",
       "│ 0x7458...aa72                ┆ 1929  │\n",
       "│ Aerodrome: Voter             ┆ 1864  │\n",
       "└──────────────────────────────┴───────┘"
      ]
     },
     "execution_count": 26,
     "metadata": {},
     "output_type": "execute_result"
    }
   ],
   "source": [
    "# Hex-encoded input data. The first 4 bytes (8 hex chars) are the function selector\n",
    "(df\n",
    " .group_by(\"to_label\")\n",
    " .agg(pl.len())\n",
    " .sort(by=\"len\", descending=True)\n",
    " .head(10)\n",
    " ).collect()"
   ]
  },
  {
   "cell_type": "code",
   "execution_count": 27,
   "id": "b9bdd5b5",
   "metadata": {},
   "outputs": [
    {
     "data": {
      "text/html": [
       "<div><style>\n",
       ".dataframe > thead > tr,\n",
       ".dataframe > tbody > tr {\n",
       "  text-align: right;\n",
       "  white-space: pre-wrap;\n",
       "}\n",
       "</style>\n",
       "<small>shape: (10, 2)</small><table border=\"1\" class=\"dataframe\"><thead><tr><th>from_label</th><th>len</th></tr><tr><td>str</td><td>u32</td></tr></thead><tbody><tr><td>&quot;0xb7b8...f463&quot;</td><td>37058</td></tr><tr><td>&quot;USDC (USDC)&quot;</td><td>22011</td></tr><tr><td>&quot;Uniswap V4: Pool Manager&quot;</td><td>9172</td></tr><tr><td>&quot;0xad4f...915d&quot;</td><td>4488</td></tr><tr><td>&quot;0x2a84...795b&quot;</td><td>4433</td></tr><tr><td>&quot;KyberSwap: Aggregator Executor&quot;</td><td>4426</td></tr><tr><td>&quot;0x4f1c...d037&quot;</td><td>4016</td></tr><tr><td>&quot;0x5e7b...809a&quot;</td><td>4003</td></tr><tr><td>&quot;0xdb45...6b5d&quot;</td><td>2832</td></tr><tr><td>&quot;0x72ab...2d38&quot;</td><td>2286</td></tr></tbody></table></div>"
      ],
      "text/plain": [
       "shape: (10, 2)\n",
       "┌────────────────────────────────┬───────┐\n",
       "│ from_label                     ┆ len   │\n",
       "│ ---                            ┆ ---   │\n",
       "│ str                            ┆ u32   │\n",
       "╞════════════════════════════════╪═══════╡\n",
       "│ 0xb7b8...f463                  ┆ 37058 │\n",
       "│ USDC (USDC)                    ┆ 22011 │\n",
       "│ Uniswap V4: Pool Manager       ┆ 9172  │\n",
       "│ 0xad4f...915d                  ┆ 4488  │\n",
       "│ 0x2a84...795b                  ┆ 4433  │\n",
       "│ KyberSwap: Aggregator Executor ┆ 4426  │\n",
       "│ 0x4f1c...d037                  ┆ 4016  │\n",
       "│ 0x5e7b...809a                  ┆ 4003  │\n",
       "│ 0xdb45...6b5d                  ┆ 2832  │\n",
       "│ 0x72ab...2d38                  ┆ 2286  │\n",
       "└────────────────────────────────┴───────┘"
      ]
     },
     "execution_count": 27,
     "metadata": {},
     "output_type": "execute_result"
    }
   ],
   "source": [
    "# Hex-encoded input data. The first 4 bytes (8 hex chars) are the function selector\n",
    "(df\n",
    " .group_by(\"from_label\")\n",
    " .agg(pl.len())\n",
    " .sort(by=\"len\", descending=True)\n",
    " .head(10)\n",
    " ).collect()"
   ]
  },
  {
   "cell_type": "code",
   "execution_count": 28,
   "id": "4f2fd2e1",
   "metadata": {},
   "outputs": [
    {
     "name": "stdout",
     "output_type": "stream",
     "text": [
      "balanceOf(address) \t 56944\n",
      "transfer(address,uint256) \t 21522\n",
      "swap(address,bool,int256,uint160,bytes) \t 7903\n",
      "slot0() \t 7323\n",
      "transferFrom(address,address,uint256) \t 6100\n",
      "exttload(bytes32) \t 4607\n",
      "unlock(bytes) \t 3724\n",
      "unlockCallback(bytes) \t 3453\n",
      "swap((address,address,uint24,int24,address),(bool,int256,uint160),bytes) \t 3280\n",
      "tickSpacing() \t 3006\n",
      "uniswapV3SwapCallback(int256,int256,bytes) \t 2684\n",
      "take(address,address,uint256) \t 2534\n",
      "settle() \t 2522\n",
      "liquidity() \t 2301\n",
      "tickBitmap(int16) \t 2196\n",
      "getFee(address) \t 2179\n",
      "approve(address,uint256) \t 2123\n",
      "getReserves() \t 1689\n",
      "sync(address) \t 1681\n",
      "withdraw(uint256) \t 1589\n",
      "fee() \t 1476\n",
      "deposit() \t 1385\n",
      "latestRoundData() \t 1351\n",
      "getSwapFee(address) \t 1316\n",
      "pancakeV3SwapCallback(int256,int256,bytes) \t 1167\n",
      "transfer_attention_tg_invmru_28108a2(bool,bool,uint256) \t 1156\n",
      "observe(uint32[]) \t 1007\n",
      "isAlive(address) \t 913\n",
      "gauges(address) \t 912\n",
      "executeBatchWithCallback((bytes,bytes)[],bytes) \t 625\n",
      "getLatestPeriodInfo(address) \t 623\n",
      "executeBatch((bytes,bytes)[],bytes) \t 615\n",
      "tickSpacingToFee(int24) \t 529\n",
      "onSwap((uint8,uint256,uint256[],uint256,uint256,address,bytes)) \t 519\n",
      "latestAnswer() \t 512\n",
      "transferFrom(address,address,uint160,address) \t 449\n",
      "getRate() \t 433\n",
      "getFee(address,bool) \t 425\n",
      "swap((uint8,address,address,address,uint256,uint256,bytes)) \t 392\n",
      "getReserveNormalizedIncome(address) \t 388\n",
      "getAmountOut(uint256,address) \t 361\n",
      "poolImplementation() \t 346\n",
      "execute(bytes,bytes[],uint256) \t 312\n",
      "settle(address,uint256) \t 308\n",
      "sendTo(address,address,uint256) \t 300\n",
      "market(bytes32) \t 298\n",
      "isPaused() \t 284\n",
      "ticks(int24) \t 279\n",
      "borrowRateView((address,address,address,address,uint256),(uint128,uint128,uint128,uint128,uint128,uint128)) \t 269\n",
      "whitelistedTokens(address) \t 254\n",
      "allWhitelistedTokens(uint256) \t 254\n",
      "claimTokens(address,address,address,uint256) \t 250\n",
      "swapUniV3() \t 246\n",
      "onSwap((uint8,address,address,uint256,bytes32,uint256,address,address,bytes),uint256,uint256) \t 236\n",
      "approve(address,address,uint160,uint48) \t 227\n",
      "getUnit() \t 224\n",
      "executeWithCallback((bytes,bytes),bytes) \t 220\n",
      "burn(address,uint256) \t 216\n",
      "execute() \t 211\n",
      "decreaseLiquidity((uint256,uint128,uint256,uint256,uint256)) \t 210\n",
      "priceFeeds(address,address) \t 207\n",
      "allowance(address,address,address) \t 51\n",
      "tokens() \t 15\n",
      "gm(address,uint8) \t 2\n"
     ]
    }
   ],
   "source": [
    "# Hex-encoded input data. The first 4 bytes (8 hex chars) are the function selector\n",
    "\n",
    "data = (df\n",
    " .filter(pl.col('function_selector_label').ne(\"\"))\n",
    " .group_by(\"function_selector_label\")\n",
    " .agg(pl.len())\n",
    " .sort(by=\"len\", descending=True)\n",
    " )\n",
    "\n",
    "for row in data.collect().iter_rows(named=True):\n",
    "    print(row['function_selector_label'], '\\t', row['len'])"
   ]
  },
  {
   "cell_type": "code",
   "execution_count": 29,
   "id": "25931932",
   "metadata": {},
   "outputs": [
    {
     "data": {
      "text/plain": [
       "{'selector': '0x128acb08',\n",
       " 'known': True,\n",
       " 'name': 'swap',\n",
       " 'signature': 'swap(address,bool,int256,uint160,bytes)',\n",
       " 'arg_types': ['address', 'bool', 'int256', 'uint160', 'bytes'],\n",
       " 'args_decoded': ['0xB7B8F759E8Bd293b91632100f53a45859832f463',\n",
       "  True,\n",
       "  15376896090287164603,\n",
       "  3942749655073213435084800,\n",
       "  '0x3078']}"
      ]
     },
     "execution_count": 29,
     "metadata": {},
     "output_type": "execute_result"
    }
   ],
   "source": [
    "input_test = \"0x128acb08000000000000000000000000b7b8f759e8bd293b91632100f53a45859832f4630000000000000000000000000000000000000000000000000000000000000001000000000000000000000000000000000000000000000000d565b58619a8ccbb0000000000000000000000000000000000000000000342e8e317aa20c000000000000000000000000000000000000000000000000000000000000000000000a000000000000000000000000000000000000000000000000000000000000000023078000000000000000000000000000000000000000000000000000000000000\"\n",
    "parse_tx_input(input_test, f_selector_dict)"
   ]
  },
  {
   "cell_type": "code",
   "execution_count": 30,
   "id": "1e61ed99",
   "metadata": {},
   "outputs": [
    {
     "name": "stdout",
     "output_type": "stream",
     "text": [
      "tx_hash=0x068fe17b56909063edc72a258e55ada673f83790f6cb05cbef839730780c058f, input=0x128acb080000000000000000000000006e4141d33021b52c91c28608403db4a0ffb50ec6000000000000000000000000000000000000000000000000000000000000000100000000000000000000000000000000000000000000000000016c59fcd1607f00000000000000000000000000000000000000000000000000000001000276a400000000000000000000000000000000000000000000000000000000000000a000000000000000000000000000000000000000000000000000000000000000e0000000000000000000000000000000000000000000000000000000000000002000000000000000000000000000000000000000000000000000000000000000400000000000000000000000006e4141d33021b52c91c28608403db4a0ffb50ec600000000000000000000000000000000000000000000000000000000000000600000000000000000000000007ddd5fc2588d58c0ebc7e8cfd3d94ee34cf85b230000000000000000000000004200000000000000000000000000000000000006000000000000000000000000d9aaec86b65d86f6a7b5b1b0c42ffa531710b6ca\n",
      "tx_hash=0xb00fb519cedfde478e5fb26e0b66ece66d996cad307bd12a27197e1c82cdfd20, input=0x128acb080000000000000000000000006580ad50b30a2939b7727d5a4be244a4b3455bd50000000000000000000000000000000000000000000000000000000000000000000000000000000000000000000000000000000000000000000000003d221ace000000000000000000000000fffd8963efd1fc6a506488495d951d5263988d2500000000000000000000000000000000000000000000000000000000000000a00000000000000000000000000000000000000000000000000000000000000000\n",
      "tx_hash=0xacf7c4dc5d9b7448337d0284b7841f328c07e567271f22c33e40f503774fe9cd, input=0x128acb08000000000000000000000000eebe595052f785424f7af2c57c55040f7b7b233f000000000000000000000000000000000000000000000000000000000000000000000000000000000000000000000000000000000000000000000000adc97f00000000000000000000000000fffd8963efd1fc6a506488495d951d5263988d2500000000000000000000000000000000000000000000000000000000000000a000000000000000000000000000000000000000000000000000000000000000000000000000000000000000000000000000000000000000000000000000000000\n",
      "tx_hash=0xd47359949264e59ef916f0916eb17458f1f8c661bd85ba528fbad739dd051e8c, input=0x128acb08000000000000000000000000802b65b5d9016621e66003aed0b16615093f328b00000000000000000000000000000000000000000000000000000000000000000000000000000000000000000000000000000000000000000000000016152b6f0000000000000000000000000000000000000000000342cd416c4e382645045200000000000000000000000000000000000000000000000000000000000000a00000000000000000000000000000000000000000000000000000000000000020000000000000000000000000833589fcd6edb6e08f4c7c32d4f71b54bda02913\n",
      "tx_hash=0x6e5206deada7325818c51c4e895cafe2ee42ee5f7d0ee888c61a78cf926b3a59, input=0x128acb08000000000000000000000000d3a595a8b28c9529ab210230f454aaba50d5ede300000000000000000000000000000000000000000000000000000000000000000000000000000000000000000000000000000000000000000000000073182d1c0000000000000000000000000000000000000000000342da01f296f418f5342a00000000000000000000000000000000000000000000000000000000000000a0000000000000000000000000000000000000000000000000000000000000002900833589fcd6edb6e08f4c7c32d4f71b54bda0291372ab388e2e2f6facef59e3c3fa2c4e29011c2d380000000000000000000000000000000000000000000000\n",
      "tx_hash=0x78221a048751281585ce8a495b611781a7466bb8511db4313adf81e377dbd973, input=0x128acb08000000000000000000000000dec8b08549a45e0edaa1999ad582478fb9102b56000000000000000000000000000000000000000000000000000000000000000000000000000000000000000000000000000000000000000000000000016c52eb000000000000000000000000fffd8963efd1fc6a506488495d951d5263988d2500000000000000000000000000000000000000000000000000000000000000a000000000000000000000000000000000000000000000000000000000000000a00000000000000000000000000000000000000000000000000000000000000040000000000000000000000000dec8b08549a45e0edaa1999ad582478fb9102b56000000000000000000000000000000000000000000000000000000000000002bcbb7c0000ab88b473b1f5afd9ef808440eed33bf0000c8940181a94a35a4569e4529a3cdfb74e38fd98631000000000000000000000000000000000000000000\n",
      "tx_hash=0x78221a048751281585ce8a495b611781a7466bb8511db4313adf81e377dbd973, input=0x128acb08000000000000000000000000dec8b08549a45e0edaa1999ad582478fb9102b56000000000000000000000000000000000000000000000000000000000000000000000000000000000000000000000000000000000000000000000000016c52eb000000000000000000000000fffd8963efd1fc6a506488495d951d5263988d2500000000000000000000000000000000000000000000000000000000000000a000000000000000000000000000000000000000000000000000000000000000a00000000000000000000000000000000000000000000000000000000000000040000000000000000000000000dec8b08549a45e0edaa1999ad582478fb9102b56000000000000000000000000000000000000000000000000000000000000002bcbb7c0000ab88b473b1f5afd9ef808440eed33bf0000c8940181a94a35a4569e4529a3cdfb74e38fd98631000000000000000000000000000000000000000000\n",
      "tx_hash=0x9537ac551342f915545ff13c3864cbb860c6324474ad97cc76b853bc8457ec9c, input=0x128acb0800000000000000000000000060cc7d4cdbb7479fd3fd3606265f00cd33dea6290000000000000000000000000000000000000000000000000000000000000000fffffffffffffffffffffffffffffffffffffffffffffffff5e98eeb63fb4380000000000000000000000000fffd8963efd1fc6a506488495d951d5263988d2500000000000000000000000000000000000000000000000000000000000000a000000000000000000000000000000000000000000000000000000000000000c00000000000000000000000000000000000000000000000000000000000000020000000000000000000000000000000000000000000000000000000000000004000000000000000000000000060cc7d4cdbb7479fd3fd3606265f00cd33dea629000000000000000000000000000000000000000000000000000000000000002b4200000000000000000000000000000000000006000064833589fcd6edb6e08f4c7c32d4f71b54bda02913000000000000000000000000000000000000000000\n",
      "tx_hash=0xd0039ad072ed8dc609cc804ec58be5b7e31ee380fa71c688af9e4522882830f7, input=0x128acb08000000000000000000000000b7b8f759e8bd293b91632100f53a45859832f463000000000000000000000000000000000000000000000000000000000000000000000000000000000000000000000000000000000000000000000002fe4810450000000000000000000000000000000000000000000342ceb575de044000000000000000000000000000000000000000000000000000000000000000000000a000000000000000000000000000000000000000000000000000000000000000023078000000000000000000000000000000000000000000000000000000000000\n",
      "tx_hash=0x74bf35546760d78616c54abbcdd3551bb961a9decff183fe5906ac559c1ad97c, input=0x128acb080000000000000000000000006e4141d33021b52c91c28608403db4a0ffb50ec60000000000000000000000000000000000000000000000000000000000000000000000000000000000000000000000000000000000000000ad0a6d40280691b9000000000000000000000000fff6fbe64b68d618d47c209fe40b0d8ee6e23c9000000000000000000000000000000000000000000000000000000000000000a000000000000000000000000000000000000000000000000000000000000000e0000000000000000000000000000000000000000000000000000000000000002000000000000000000000000000000000000000000000000000000000000000400000000000000000000000006e4141d33021b52c91c28608403db4a0ffb50ec60000000000000000000000000000000000000000000000000000000000000060000000000000000000000000e5b5f522e98b5a2baae212d4da66b865b781db97000000000000000000000000940181a94a35a4569e4529a3cdfb74e38fd98631000000000000000000000000833589fcd6edb6e08f4c7c32d4f71b54bda02913\n",
      "tx_hash=0x9ec8889aec9f25f9a31614168ebbe458cdd1d70d8e0107b6b4fd9139deef01d4, input=0x128acb080000000000000000000000008ac3d60f1c98d9ebc7f445f7295efb2bb6050b76000000000000000000000000000000000000000000000000000000000000000000000000000000000000000000000000000000000000007081ee5c6aade911a6000000000000000000000000fffd8963efd1fc6a506488495d951d5263988d2500000000000000000000000000000000000000000000000000000000000000a000000000000000000000000000000000000000000000000000000000000000c0000000000000000000000000000000000000000000000000000000000000002000000000000000000000000000000000000000000000000000000000000000400000000000000000000000008ac3d60f1c98d9ebc7f445f7295efb2bb6050b76000000000000000000000000000000000000000000000000000000000000002bd769d56f479e9e72a77bb1523e866a33098feec50027104200000000000000000000000000000000000006000000000000000000000000000000000000000000\n",
      "tx_hash=0x73ce4978609cdf28af6eee2906a74cb1a43fbe5138666a733313f64742f2227f, input=0x128acb080000000000000000000000008ac3d60f1c98d9ebc7f445f7295efb2bb6050b76000000000000000000000000000000000000000000000000000000000000000000000000000000000000000000000000000000000000007ba74fa78c9e1f106c000000000000000000000000fffd8963efd1fc6a506488495d951d5263988d2500000000000000000000000000000000000000000000000000000000000000a000000000000000000000000000000000000000000000000000000000000000c0000000000000000000000000000000000000000000000000000000000000002000000000000000000000000000000000000000000000000000000000000000400000000000000000000000008ac3d60f1c98d9ebc7f445f7295efb2bb6050b76000000000000000000000000000000000000000000000000000000000000002bd769d56f479e9e72a77bb1523e866a33098feec50027104200000000000000000000000000000000000006000000000000000000000000000000000000000000\n",
      "tx_hash=0x161b89a0dd3bad6a77682bd4e138175732b1926257af7140556d7a7af8836c69, input=0x128acb08000000000000000000000000b7b8f759e8bd293b91632100f53a45859832f463000000000000000000000000000000000000000000000000000000000000000000000000000000000000000000000000000000000000000000000002fad2074c0000000000000000000000000000000000000000000342e6ea217d4b8000000000000000000000000000000000000000000000000000000000000000000000a000000000000000000000000000000000000000000000000000000000000000023078000000000000000000000000000000000000000000000000000000000000\n",
      "tx_hash=0xdce51ea2f8ff274a3fccd60455703725278b3c237391db0c7e0cf6d7dfdc5d6b, input=0x128acb08000000000000000000000000b7b8f759e8bd293b91632100f53a45859832f463000000000000000000000000000000000000000000000000000000000000000000000000000000000000000000000000000000000000000000000002fad2074c0000000000000000000000000000000000000000000342e6ea217d4b8000000000000000000000000000000000000000000000000000000000000000000000a000000000000000000000000000000000000000000000000000000000000000023078000000000000000000000000000000000000000000000000000000000000\n",
      "tx_hash=0x3b561214ccbbcf035f11b3656789cdd5088b8805ecde93521d6480ce38eb079e, input=0x128acb08000000000000000000000000b7b8f759e8bd293b91632100f53a45859832f463000000000000000000000000000000000000000000000000000000000000000000000000000000000000000000000000000000000000000000000002fad2074c0000000000000000000000000000000000000000000342ca6ce55d0c8000000000000000000000000000000000000000000000000000000000000000000000a000000000000000000000000000000000000000000000000000000000000000023078000000000000000000000000000000000000000000000000000000000000\n",
      "tx_hash=0x18df26597e737b46f980264add120cf0e53a4a2bc8c29270b3db3be66b9cc581, input=0x128acb08000000000000000000000000b7b8f759e8bd293b91632100f53a45859832f463000000000000000000000000000000000000000000000000000000000000000000000000000000000000000000000000000000000000000000000002fad2074c0000000000000000000000000000000000000000000342cd93401e120000000000000000000000000000000000000000000000000000000000000000000000a000000000000000000000000000000000000000000000000000000000000000023078000000000000000000000000000000000000000000000000000000000000\n",
      "tx_hash=0x076ddd14f5904864f3bd86e96c6487209caeb7b95eeb8ac40d4a46bd4cc1a2cf, input=0x128acb08000000000000000000000000a62ab3efc2c292c7f2c485bb5e5a7b1523ad7f0b0000000000000000000000000000000000000000000000000000000000000001000000000000000000000000000000000000000000000000001c41bff1d9300000000000000000000000000000000000000000000000000000000001000276a400000000000000000000000000000000000000000000000000000000000000a000000000000000000000000000000000000000000000000000000000000000e000000000000000000000000000000000000000000000000000000000000000200000000000000000000000000000000000000000000000000000000000000040000000000000000000000000a62ab3efc2c292c7f2c485bb5e5a7b1523ad7f0b000000000000000000000000000000000000000000000000000000000000006000000000000000000000000072ab388e2e2f6facef59e3c3fa2c4e29011c2d380000000000000000000000004200000000000000000000000000000000000006000000000000000000000000833589fcd6edb6e08f4c7c32d4f71b54bda02913\n",
      "tx_hash=0x076ddd14f5904864f3bd86e96c6487209caeb7b95eeb8ac40d4a46bd4cc1a2cf, input=0x128acb08000000000000000000000000a62ab3efc2c292c7f2c485bb5e5a7b1523ad7f0b000000000000000000000000000000000000000000000000000000000000000000000000000000000000000000000000000000000000000000000000012c8652000000000000000000000000fffd8963efd1fc6a506488495d951d5263988d2500000000000000000000000000000000000000000000000000000000000000a000000000000000000000000000000000000000000000000000000000000000e000000000000000000000000000000000000000000000000000000000000000200000000000000000000000000000000000000000000000000000000000000040000000000000000000000000a62ab3efc2c292c7f2c485bb5e5a7b1523ad7f0b0000000000000000000000000000000000000000000000000000000000000060000000000000000000000000b0a65b3a6f9da0e5eb057e0d5327deddbe17309e000000000000000000000000833589fcd6edb6e08f4c7c32d4f71b54bda0291300000000000000000000000002f92800f57bcd74066f5709f1daa1a4302df875\n",
      "tx_hash=0x076ddd14f5904864f3bd86e96c6487209caeb7b95eeb8ac40d4a46bd4cc1a2cf, input=0x128acb08000000000000000000000000a62ab3efc2c292c7f2c485bb5e5a7b1523ad7f0b000000000000000000000000000000000000000000000000000000000000000000000000000000000000000000000000000000000000000000000000012c8652000000000000000000000000fffd8963efd1fc6a506488495d951d5263988d2500000000000000000000000000000000000000000000000000000000000000a000000000000000000000000000000000000000000000000000000000000000e000000000000000000000000000000000000000000000000000000000000000200000000000000000000000000000000000000000000000000000000000000040000000000000000000000000a62ab3efc2c292c7f2c485bb5e5a7b1523ad7f0b0000000000000000000000000000000000000000000000000000000000000060000000000000000000000000b0a65b3a6f9da0e5eb057e0d5327deddbe17309e000000000000000000000000833589fcd6edb6e08f4c7c32d4f71b54bda0291300000000000000000000000002f92800f57bcd74066f5709f1daa1a4302df875\n",
      "tx_hash=0x5590fd28b694ac85fef1a967ea3c26e6479177888e4f48849fe7d7d23d4e1e6b, input=0x128acb080000000000000000000000006e4141d33021b52c91c28608403db4a0ffb50ec600000000000000000000000000000000000000000000000000000000000000000000000000000000000000000000000000000000000000000000000000c71fbb000000000000000000000000fffd8963efd1fc6a506488495d951d5263988d2500000000000000000000000000000000000000000000000000000000000000a000000000000000000000000000000000000000000000000000000000000000e0000000000000000000000000000000000000000000000000000000000000002000000000000000000000000000000000000000000000000000000000000000400000000000000000000000006e4141d33021b52c91c28608403db4a0ffb50ec6000000000000000000000000000000000000000000000000000000000000006000000000000000000000000074cb6260be6f31965c239df6d6ef2ac2b5d4f020000000000000000000000000833589fcd6edb6e08f4c7c32d4f71b54bda029130000000000000000000000004200000000000000000000000000000000000006\n",
      "tx_hash=0x1d05e53c4f2cf2140a7c5201fcb1df45a26c9ee6ffab48f9d3f9dad42a4fbb72, input=0x128acb080000000000000000000000008ac3d60f1c98d9ebc7f445f7295efb2bb6050b7600000000000000000000000000000000000000000000000000000000000000000000000000000000000000000000000000000000000000787a63b51493e6dd26000000000000000000000000fffd8963efd1fc6a506488495d951d5263988d2500000000000000000000000000000000000000000000000000000000000000a000000000000000000000000000000000000000000000000000000000000000c0000000000000000000000000000000000000000000000000000000000000002000000000000000000000000000000000000000000000000000000000000000400000000000000000000000008ac3d60f1c98d9ebc7f445f7295efb2bb6050b76000000000000000000000000000000000000000000000000000000000000002bd769d56f479e9e72a77bb1523e866a33098feec50027104200000000000000000000000000000000000006000000000000000000000000000000000000000000\n",
      "tx_hash=0xaa765b6746fdad66f589b23d136c6b8fcda333a4ec689cc8162cf5175517a45c, input=0x128acb08000000000000000000000000cfd9eab7f7df82f745c8a9b471d681170f68527300000000000000000000000000000000000000000000000000000000000000000000000000000000000000000000000000000000000000000000000003e2958a0000000000000000000000000000000000000000000342e1ddc5d1a1a000000000000000000000000000000000000000000000000000000000000000000000a00000000000000000000000000000000000000000000000000000000000000000\n",
      "tx_hash=0xb39c2197d4d200cb7d26bfba37f4e5b5cec13548593207fd7d49ea26b1bfe6a2, input=0x128acb0800000000000000000000000020f96c8e3ddaf9e06c0b82bffc6826911051b2d10000000000000000000000000000000000000000000000000000000000000001000000000000000000000000000000000000000000000000008d65e39e0f800000000000000000000000000000000000000000000000000000000001000276a400000000000000000000000000000000000000000000000000000000000000a00000000000000000000000000000000000000000000000000000000000000100000000000000000000000000000000000000000000000000000000000000002000000000000000000000000033128a8fc17869897dce68ed026d694621f6fdfd00000000000000000000000000000000000000000000000000000000000000800000000000000000000000005d648fa720cf4d0f3d701c95f90a4b2ab7aca5910000000000000000000000000000000000000000000000000000000000000000000000000000000000000000000000000000000000000000000000000000002b42000000000000000000000000000000000000060001f4d9aaec86b65d86f6a7b5b1b0c42ffa531710b6ca000000000000000000000000000000000000000000\n",
      "tx_hash=0x1d4cb746be8bf1b03780cfb151ef7763690d802d3e4419b6801a2f7f4fb74433, input=0x128acb0800000000000000000000000001989c93890aed05a63d179b03424997075b6acf000000000000000000000000000000000000000000000000000000000000000100000000000000000000000000000000000000000000001cb77c1afef2fc11400000000000000000000000000000000000000000071300ddbf9f03446314f80000000000000000000000000000000000000000000000000000000000000000a000000000000000000000000000000000000000000000000000000000000000200000000000000000000000000000000000000000000000000000000000000000\n",
      "tx_hash=0x3ee1e62c43f2b6222ec6381b273ef8972b2aa3dbd6a4a9b6467a6cda8db1e6eb, input=0x128acb08000000000000000000000000dec8b08549a45e0edaa1999ad582478fb9102b56000000000000000000000000000000000000000000000000000000000000000000000000000000000000000000000000000000000000000000000000016c4faa000000000000000000000000fffd8963efd1fc6a506488495d951d5263988d2500000000000000000000000000000000000000000000000000000000000000a000000000000000000000000000000000000000000000000000000000000000a00000000000000000000000000000000000000000000000000000000000000040000000000000000000000000dec8b08549a45e0edaa1999ad582478fb9102b56000000000000000000000000000000000000000000000000000000000000002bcbb7c0000ab88b473b1f5afd9ef808440eed33bf0000c8940181a94a35a4569e4529a3cdfb74e38fd98631000000000000000000000000000000000000000000\n",
      "tx_hash=0x3ee1e62c43f2b6222ec6381b273ef8972b2aa3dbd6a4a9b6467a6cda8db1e6eb, input=0x128acb08000000000000000000000000dec8b08549a45e0edaa1999ad582478fb9102b56000000000000000000000000000000000000000000000000000000000000000000000000000000000000000000000000000000000000000000000000016c4faa000000000000000000000000fffd8963efd1fc6a506488495d951d5263988d2500000000000000000000000000000000000000000000000000000000000000a000000000000000000000000000000000000000000000000000000000000000a00000000000000000000000000000000000000000000000000000000000000040000000000000000000000000dec8b08549a45e0edaa1999ad582478fb9102b56000000000000000000000000000000000000000000000000000000000000002bcbb7c0000ab88b473b1f5afd9ef808440eed33bf0000c8940181a94a35a4569e4529a3cdfb74e38fd98631000000000000000000000000000000000000000000\n",
      "tx_hash=0xcaf4344754b542b0480ffe7d47b0548faa7edfaaafa703856187e9a288de32a9, input=0x128acb08000000000000000000000000ad4f8f6098232b250f2be2efd02248731246915d000000000000000000000000000000000000000000000000000000000000000000000000000000000000000000000000000000000000002b3ed982371676000000000000000000000000000000000000000000c2fbfd20044b7d39b099575ff000000000000000000000000000000000000000000000000000000000000000a000000000000000000000000000000000000000000000000000000000000000a000000000000000000000000000000000000000000000000000000000000000000000000000000000000000000000000000000000000000000000000000000001000000000000000000000000532f27101965dd16442e59d40670faf5ebb142e400000000000000000000000036a46dff597c5a444bbc521d26787f57867d221400000000000000000000000000000000000000c2fa1b03a31014b9ec4e21cbb4\n",
      "tx_hash=0xe9f784b562de73bc23a4b4389b4cedab853335faf4b1abab33d864d9434d93c9, input=0x128acb08000000000000000000000000b7b8f759e8bd293b91632100f53a45859832f4630000000000000000000000000000000000000000000000000000000000000001000000000000000000000000000000000000000000000000d565b58619a8ccbb0000000000000000000000000000000000000000000342e8e317aa20c000000000000000000000000000000000000000000000000000000000000000000000a000000000000000000000000000000000000000000000000000000000000000023078000000000000000000000000000000000000000000000000000000000000\n",
      "tx_hash=0x46ca70f9b73b427a3cc8ab9c16e07bd91abdd7fce5c3b53e294db36346175100, input=0x128acb08000000000000000000000000b7b8f759e8bd293b91632100f53a45859832f4630000000000000000000000000000000000000000000000000000000000000001000000000000000000000000000000000000000000000000d565b58619a8ccbb0000000000000000000000000000000000000000000342e8e317aa20c000000000000000000000000000000000000000000000000000000000000000000000a000000000000000000000000000000000000000000000000000000000000000023078000000000000000000000000000000000000000000000000000000000000\n",
      "tx_hash=0x52c9597b46a386cd5e21b9b4aa57b334556d00d9f808898549da86b02c792357, input=0x128acb08000000000000000000000000b7b8f759e8bd293b91632100f53a45859832f4630000000000000000000000000000000000000000000000000000000000000001000000000000000000000000000000000000000000000000d562df0b544b4cdd0000000000000000000000000000000000000000000342e3b830f7a92000000000000000000000000000000000000000000000000000000000000000000000a000000000000000000000000000000000000000000000000000000000000000023078000000000000000000000000000000000000000000000000000000000000\n",
      "tx_hash=0xf31ac594d9766da31a7030d4733653a9065f32f595b43bbfdb9ad70c302d3926, input=0x128acb08000000000000000000000000cfd9eab7f7df82f745c8a9b471d681170f6852730000000000000000000000000000000000000000000000000000000000000000000000000000000000000000000000000000000000000000000000000fda88810000000000000000000000000000000000000000000342c8d5c65f3f8000000000000000000000000000000000000000000000000000000000000000000000a00000000000000000000000000000000000000000000000000000000000000000\n",
      "tx_hash=0xf20e52c67260cf7a322c119541c0e0e386116bf249309bdb82acd381b948cf9c, input=0x128acb08000000000000000000000000b7b8f759e8bd293b91632100f53a45859832f4630000000000000000000000000000000000000000000000000000000000000001000000000000000000000000000000000000000000000000d562deefdf89f2b70000000000000000000000000000000000000000000342e3a19c62ec4000000000000000000000000000000000000000000000000000000000000000000000a000000000000000000000000000000000000000000000000000000000000000023078000000000000000000000000000000000000000000000000000000000000\n",
      "tx_hash=0xf1bdac7e76ee36fc22f1f558f08351727a660c6f13b764c418b33920a8b71bc9, input=0x128acb08000000000000000000000000b7b8f759e8bd293b91632100f53a45859832f4630000000000000000000000000000000000000000000000000000000000000001000000000000000000000000000000000000000000000000d562deefdf89f2b70000000000000000000000000000000000000000000342e3a19c62ec4000000000000000000000000000000000000000000000000000000000000000000000a000000000000000000000000000000000000000000000000000000000000000023078000000000000000000000000000000000000000000000000000000000000\n",
      "tx_hash=0xd9d9aae07d1116361331f861d052ea15e11a72b244d2e587c3ec0b44105defc0, input=0x128acb08000000000000000000000000b7b8f759e8bd293b91632100f53a45859832f4630000000000000000000000000000000000000000000000000000000000000001000000000000000000000000000000000000000000000000d562deefdf89f2b70000000000000000000000000000000000000000000342e3b019a3394000000000000000000000000000000000000000000000000000000000000000000000a000000000000000000000000000000000000000000000000000000000000000023078000000000000000000000000000000000000000000000000000000000000\n",
      "tx_hash=0x5e595c305b56f53dda9b1ef14d8a562ba6c7a315ebd1cb3b4f5df34440bb287d, input=0x128acb08000000000000000000000000b7b8f759e8bd293b91632100f53a45859832f4630000000000000000000000000000000000000000000000000000000000000001000000000000000000000000000000000000000000000000d562deefdf89f2b70000000000000000000000000000000000000000000342e3b019a3394000000000000000000000000000000000000000000000000000000000000000000000a000000000000000000000000000000000000000000000000000000000000000023078000000000000000000000000000000000000000000000000000000000000\n",
      "tx_hash=0x5ab408dd3aa1f036d2afffb1357f594e9bdecea57d6aa6de14d6eba52cebe800, input=0x128acb08000000000000000000000000dec8b08549a45e0edaa1999ad582478fb9102b56000000000000000000000000000000000000000000000000000000000000000000000000000000000000000000000000000000000000000000000000016c62f2000000000000000000000000fffd8963efd1fc6a506488495d951d5263988d2500000000000000000000000000000000000000000000000000000000000000a000000000000000000000000000000000000000000000000000000000000000a00000000000000000000000000000000000000000000000000000000000000040000000000000000000000000dec8b08549a45e0edaa1999ad582478fb9102b56000000000000000000000000000000000000000000000000000000000000002bcbb7c0000ab88b473b1f5afd9ef808440eed33bf0000c8940181a94a35a4569e4529a3cdfb74e38fd98631000000000000000000000000000000000000000000\n",
      "tx_hash=0x5ab408dd3aa1f036d2afffb1357f594e9bdecea57d6aa6de14d6eba52cebe800, input=0x128acb08000000000000000000000000dec8b08549a45e0edaa1999ad582478fb9102b56000000000000000000000000000000000000000000000000000000000000000000000000000000000000000000000000000000000000000000000000016c62f2000000000000000000000000fffd8963efd1fc6a506488495d951d5263988d2500000000000000000000000000000000000000000000000000000000000000a000000000000000000000000000000000000000000000000000000000000000a00000000000000000000000000000000000000000000000000000000000000040000000000000000000000000dec8b08549a45e0edaa1999ad582478fb9102b56000000000000000000000000000000000000000000000000000000000000002bcbb7c0000ab88b473b1f5afd9ef808440eed33bf0000c8940181a94a35a4569e4529a3cdfb74e38fd98631000000000000000000000000000000000000000000\n",
      "tx_hash=0xcf2b2397e872c6447f1f8ee2bae0084ddf3f333e02fbdf178f572a5cade9248c, input=0x128acb080000000000000000000000002a8466a3135d1e4d51b2ebe07bfb9d1f6797795b00000000000000000000000000000000000000000000000000000000000000000000000000000000000000000000000000000000000000000000000010abf720000000000000000000000000fffd8963efd1fc6a506488495d951d5263988d2500000000000000000000000000000000000000000000000000000000000000a00000000000000000000000000000000000000000000000000000000000000020000000000000000000000000833589fcd6edb6e08f4c7c32d4f71b54bda02913\n",
      "tx_hash=0xcf2b2397e872c6447f1f8ee2bae0084ddf3f333e02fbdf178f572a5cade9248c, input=0x128acb080000000000000000000000002a8466a3135d1e4d51b2ebe07bfb9d1f6797795b0000000000000000000000000000000000000000000000000000000000000000000000000000000000000000000000000000000000000000000000000f9287a1000000000000000000000000fffd8963efd1fc6a506488495d951d5263988d2500000000000000000000000000000000000000000000000000000000000000a00000000000000000000000000000000000000000000000000000000000000020000000000000000000000000833589fcd6edb6e08f4c7c32d4f71b54bda02913\n",
      "tx_hash=0x4d19891089c18fe73b9fc62f42dc0544bbbbd759a82f5c21cf2cd7afc6cc1d3f, input=0x128acb08000000000000000000000000b7b8f759e8bd293b91632100f53a45859832f4630000000000000000000000000000000000000000000000000000000000000001000000000000000000000000000000000000000000000000d562deefdf89f2b70000000000000000000000000000000000000000000342e3b8027ce94000000000000000000000000000000000000000000000000000000000000000000000a000000000000000000000000000000000000000000000000000000000000000023078000000000000000000000000000000000000000000000000000000000000\n",
      "tx_hash=0x3cd542718618753090a5400e14fff318a2a6d7388a45510a16f3e2cb9efe93ef, input=0x128acb08000000000000000000000000b7b8f759e8bd293b91632100f53a45859832f463000000000000000000000000000000000000000000000000000000000000000000000000000000000000000000000000000000000000000000000002faf036ba0000000000000000000000000000000000000000000342c39948c9c08000000000000000000000000000000000000000000000000000000000000000000000a000000000000000000000000000000000000000000000000000000000000000023078000000000000000000000000000000000000000000000000000000000000\n",
      "tx_hash=0x477f72b511598725f77d5e280e834ff7d1beeb5427740add476a37db6aa9bda4, input=0x128acb08000000000000000000000000b7b8f759e8bd293b91632100f53a45859832f4630000000000000000000000000000000000000000000000000000000000000001000000000000000000000000000000000000000000000000d562deefdf89f2b70000000000000000000000000000000000000000000342e3a82b6b8a2000000000000000000000000000000000000000000000000000000000000000000000a000000000000000000000000000000000000000000000000000000000000000023078000000000000000000000000000000000000000000000000000000000000\n",
      "tx_hash=0x17d67e13821eca2249d493cba8e45d1f6a98bb1fc6d8269a3b9b3d675a8e709c, input=0x128acb080000000000000000000000002a8466a3135d1e4d51b2ebe07bfb9d1f6797795b0000000000000000000000000000000000000000000000000000000000000001000000000000000000000000000000000000000000000000032af771abaaa8d300000000000000000000000000000000000000000000000000000001000276a400000000000000000000000000000000000000000000000000000000000000a000000000000000000000000000000000000000000000000000000000000000200000000000000000000000004200000000000000000000000000000000000006\n",
      "tx_hash=0x17d67e13821eca2249d493cba8e45d1f6a98bb1fc6d8269a3b9b3d675a8e709c, input=0x128acb080000000000000000000000002a8466a3135d1e4d51b2ebe07bfb9d1f6797795b00000000000000000000000000000000000000000000000000000000000000010000000000000000000000000000000000000000000000000e12bbbf2cab177f00000000000000000000000000000000000000000000000000000001000276a400000000000000000000000000000000000000000000000000000000000000a000000000000000000000000000000000000000000000000000000000000000200000000000000000000000004200000000000000000000000000000000000006\n",
      "tx_hash=0x17d67e13821eca2249d493cba8e45d1f6a98bb1fc6d8269a3b9b3d675a8e709c, input=0x128acb0800000000000000000000000019ceead7105607cd444f5ad10dd51356436095a100000000000000000000000000000000000000000000000000000000000000010000000000000000000000000000000000000000000000002c0daffe137517a700000000000000000000000000000000000000000000000000000001000276a400000000000000000000000000000000000000000000000000000000000000a000000000000000000000000000000000000000000000000000000000000000200000000000000000000000004200000000000000000000000000000000000006\n",
      "tx_hash=0x17d67e13821eca2249d493cba8e45d1f6a98bb1fc6d8269a3b9b3d675a8e709c, input=0x128acb0800000000000000000000000019ceead7105607cd444f5ad10dd51356436095a10000000000000000000000000000000000000000000000000000000000000001000000000000000000000000000000000000000000000000003ca029ff05f16400000000000000000000000000000000000000000000000000000001000276a400000000000000000000000000000000000000000000000000000000000000a000000000000000000000000000000000000000000000000000000000000000200000000000000000000000004200000000000000000000000000000000000006\n",
      "tx_hash=0x17d67e13821eca2249d493cba8e45d1f6a98bb1fc6d8269a3b9b3d675a8e709c, input=0x128acb080000000000000000000000002a8466a3135d1e4d51b2ebe07bfb9d1f6797795b00000000000000000000000000000000000000000000000000000000000000010000000000000000000000000000000000000000000000001683dd1fed9471dc00000000000000000000000000000000000000000000000000000001000276a400000000000000000000000000000000000000000000000000000000000000a000000000000000000000000000000000000000000000000000000000000000200000000000000000000000004200000000000000000000000000000000000006\n",
      "tx_hash=0x17d67e13821eca2249d493cba8e45d1f6a98bb1fc6d8269a3b9b3d675a8e709c, input=0x128acb0800000000000000000000000019ceead7105607cd444f5ad10dd51356436095a100000000000000000000000000000000000000000000000000000000000000010000000000000000000000000000000000000000000000001dddf33fbd8cff6900000000000000000000000000000000000000000000000000000001000276a400000000000000000000000000000000000000000000000000000000000000a000000000000000000000000000000000000000000000000000000000000000200000000000000000000000004200000000000000000000000000000000000006\n",
      "tx_hash=0x17d67e13821eca2249d493cba8e45d1f6a98bb1fc6d8269a3b9b3d675a8e709c, input=0x128acb0800000000000000000000000019ceead7105607cd444f5ad10dd51356436095a1000000000000000000000000000000000000000000000000000000000000000100000000000000000000000000000000000000000000000000000001bb72a2e300000000000000000000000000000000000000000000000000000001000276a400000000000000000000000000000000000000000000000000000000000000a00000000000000000000000000000000000000000000000000000000000000020000000000000000000000000833589fcd6edb6e08f4c7c32d4f71b54bda02913\n",
      "tx_hash=0x17d67e13821eca2249d493cba8e45d1f6a98bb1fc6d8269a3b9b3d675a8e709c, input=0x128acb0800000000000000000000000019ceead7105607cd444f5ad10dd51356436095a1000000000000000000000000000000000000000000000000000000000000000100000000000000000000000000000000000000000000000000000000096502bf00000000000000000000000000000000000000000000000000000001000276a400000000000000000000000000000000000000000000000000000000000000a00000000000000000000000000000000000000000000000000000000000000020000000000000000000000000833589fcd6edb6e08f4c7c32d4f71b54bda02913\n",
      "tx_hash=0x17d67e13821eca2249d493cba8e45d1f6a98bb1fc6d8269a3b9b3d675a8e709c, input=0x128acb0800000000000000000000000019ceead7105607cd444f5ad10dd51356436095a100000000000000000000000000000000000000000000000000000000000000010000000000000000000000000000000000000000000000000000000002a984d900000000000000000000000000000000000000000000000000000001000276a400000000000000000000000000000000000000000000000000000000000000a00000000000000000000000000000000000000000000000000000000000000020000000000000000000000000833589fcd6edb6e08f4c7c32d4f71b54bda02913\n",
      "tx_hash=0x17d67e13821eca2249d493cba8e45d1f6a98bb1fc6d8269a3b9b3d675a8e709c, input=0x128acb0800000000000000000000000019ceead7105607cd444f5ad10dd51356436095a10000000000000000000000000000000000000000000000000000000000000000000000000000000000000000000000000000000000000000000000000040415e000000000000000000000000fffd8963efd1fc6a506488495d951d5263988d2500000000000000000000000000000000000000000000000000000000000000a00000000000000000000000000000000000000000000000000000000000000020000000000000000000000000cbb7c0000ab88b473b1f5afd9ef808440eed33bf\n",
      "tx_hash=0x17d67e13821eca2249d493cba8e45d1f6a98bb1fc6d8269a3b9b3d675a8e709c, input=0x128acb0800000000000000000000000019ceead7105607cd444f5ad10dd51356436095a10000000000000000000000000000000000000000000000000000000000000001000000000000000000000000000000000000000000000000000000013b8bd5ae00000000000000000000000000000000000000000000000000000001000276a400000000000000000000000000000000000000000000000000000000000000a00000000000000000000000000000000000000000000000000000000000000020000000000000000000000000833589fcd6edb6e08f4c7c32d4f71b54bda02913\n",
      "tx_hash=0x17d67e13821eca2249d493cba8e45d1f6a98bb1fc6d8269a3b9b3d675a8e709c, input=0x128acb0800000000000000000000000019ceead7105607cd444f5ad10dd51356436095a100000000000000000000000000000000000000000000000000000000000000010000000000000000000000000000000000000000000000000184783c799b2bfc00000000000000000000000000000000000000000000000000000001000276a400000000000000000000000000000000000000000000000000000000000000a000000000000000000000000000000000000000000000000000000000000000200000000000000000000000004200000000000000000000000000000000000006\n",
      "tx_hash=0x17d67e13821eca2249d493cba8e45d1f6a98bb1fc6d8269a3b9b3d675a8e709c, input=0x128acb08000000000000000000000000d433b339c5c801228e1343c678dc26213a7b8aac00000000000000000000000000000000000000000000000000000000000000010000000000000000000000000000000000000000000000000048beca3cb98bac00000000000000000000000000000000000000000000000000000001000276a400000000000000000000000000000000000000000000000000000000000000a000000000000000000000000000000000000000000000000000000000000000200000000000000000000000004200000000000000000000000000000000000006\n",
      "tx_hash=0x17d67e13821eca2249d493cba8e45d1f6a98bb1fc6d8269a3b9b3d675a8e709c, input=0x128acb0800000000000000000000000019ceead7105607cd444f5ad10dd51356436095a1000000000000000000000000000000000000000000000000000000000000000100000000000000000000000000000000000000000000000000613ca9df98826200000000000000000000000000000000000000000000000000000001000276a400000000000000000000000000000000000000000000000000000000000000a000000000000000000000000000000000000000000000000000000000000000200000000000000000000000004200000000000000000000000000000000000006\n",
      "tx_hash=0x17d67e13821eca2249d493cba8e45d1f6a98bb1fc6d8269a3b9b3d675a8e709c, input=0x128acb080000000000000000000000008b49c7ec53cb4ca3666bb16727fc5c5f6d12226f000000000000000000000000000000000000000000000000000000000000000000000000000000000000000000000000000000000000000000ecafd8fc977ea3000000000000000000000000fffd8963efd1fc6a506488495d951d5263988d2500000000000000000000000000000000000000000000000000000000000000a000000000000000000000000000000000000000000000000000000000000000200000000000000000000000004200000000000000000000000000000000000006\n",
      "tx_hash=0x17d67e13821eca2249d493cba8e45d1f6a98bb1fc6d8269a3b9b3d675a8e709c, input=0x128acb080000000000000000000000008b49c7ec53cb4ca3666bb16727fc5c5f6d12226f00000000000000000000000000000000000000000000000000000000000000000000000000000000000000000000000000000000000000000099aa1c22b04629000000000000000000000000fffd8963efd1fc6a506488495d951d5263988d2500000000000000000000000000000000000000000000000000000000000000a000000000000000000000000000000000000000000000000000000000000000200000000000000000000000004200000000000000000000000000000000000006\n",
      "tx_hash=0x17d67e13821eca2249d493cba8e45d1f6a98bb1fc6d8269a3b9b3d675a8e709c, input=0x128acb080000000000000000000000008b49c7ec53cb4ca3666bb16727fc5c5f6d12226f0000000000000000000000000000000000000000000000000000000000000000000000000000000000000000000000000000000000000000003661322176c189000000000000000000000000fffd8963efd1fc6a506488495d951d5263988d2500000000000000000000000000000000000000000000000000000000000000a000000000000000000000000000000000000000000000000000000000000000200000000000000000000000004200000000000000000000000000000000000006\n",
      "tx_hash=0x17d67e13821eca2249d493cba8e45d1f6a98bb1fc6d8269a3b9b3d675a8e709c, input=0x128acb080000000000000000000000002a8466a3135d1e4d51b2ebe07bfb9d1f6797795b00000000000000000000000000000000000000000000000000000000000000010000000000000000000000000000000000000000000000000147ae5d1cac9e5c00000000000000000000000000000000000000000000000000000001000276a400000000000000000000000000000000000000000000000000000000000000a000000000000000000000000000000000000000000000000000000000000000200000000000000000000000004200000000000000000000000000000000000006\n",
      "tx_hash=0x17d67e13821eca2249d493cba8e45d1f6a98bb1fc6d8269a3b9b3d675a8e709c, input=0x128acb0800000000000000000000000019ceead7105607cd444f5ad10dd51356436095a100000000000000000000000000000000000000000000000000000000000000010000000000000000000000000000000000000000000000004a36d956e0f9c5b000000000000000000000000000000000000000000000000000000001000276a400000000000000000000000000000000000000000000000000000000000000a000000000000000000000000000000000000000000000000000000000000000200000000000000000000000004200000000000000000000000000000000000006\n",
      "tx_hash=0x17d67e13821eca2249d493cba8e45d1f6a98bb1fc6d8269a3b9b3d675a8e709c, input=0x128acb080000000000000000000000002a8466a3135d1e4d51b2ebe07bfb9d1f6797795b000000000000000000000000000000000000000000000000000000000000000100000000000000000000000000000000000000000000000008f893e9627cad5a00000000000000000000000000000000000000000000000000000001000276a400000000000000000000000000000000000000000000000000000000000000a000000000000000000000000000000000000000000000000000000000000000200000000000000000000000004200000000000000000000000000000000000006\n",
      "tx_hash=0x17d67e13821eca2249d493cba8e45d1f6a98bb1fc6d8269a3b9b3d675a8e709c, input=0x128acb080000000000000000000000002a8466a3135d1e4d51b2ebe07bfb9d1f6797795b0000000000000000000000000000000000000000000000000000000000000001000000000000000000000000000000000000000000000000006a5fb02b77585600000000000000000000000000000000000000000000000000000001000276a400000000000000000000000000000000000000000000000000000000000000a000000000000000000000000000000000000000000000000000000000000000200000000000000000000000004200000000000000000000000000000000000006\n",
      "tx_hash=0x17d67e13821eca2249d493cba8e45d1f6a98bb1fc6d8269a3b9b3d675a8e709c, input=0x128acb080000000000000000000000002a8466a3135d1e4d51b2ebe07bfb9d1f6797795b00000000000000000000000000000000000000000000000000000000000000010000000000000000000000000000000000000000000000000085c804948716b300000000000000000000000000000000000000000000000000000001000276a400000000000000000000000000000000000000000000000000000000000000a000000000000000000000000000000000000000000000000000000000000000200000000000000000000000004200000000000000000000000000000000000006\n",
      "tx_hash=0x17d67e13821eca2249d493cba8e45d1f6a98bb1fc6d8269a3b9b3d675a8e709c, input=0x128acb080000000000000000000000002223f9fe624f69da4d8256a7bcc9104fba7f8f7500000000000000000000000000000000000000000000000000000000000000010000000000000000000000000000000000000000000000000158a2228d12e40c00000000000000000000000000000000000000000000000000000001000276a400000000000000000000000000000000000000000000000000000000000000a000000000000000000000000000000000000000000000000000000000000000200000000000000000000000004200000000000000000000000000000000000006\n",
      "tx_hash=0x17d67e13821eca2249d493cba8e45d1f6a98bb1fc6d8269a3b9b3d675a8e709c, input=0x128acb080000000000000000000000002223f9fe624f69da4d8256a7bcc9104fba7f8f750000000000000000000000000000000000000000000000000000000000000001000000000000000000000000000000000000000000000000002ffca0fc917be400000000000000000000000000000000000000000000000000000001000276a400000000000000000000000000000000000000000000000000000000000000a000000000000000000000000000000000000000000000000000000000000000200000000000000000000000004200000000000000000000000000000000000006\n",
      "tx_hash=0x17d67e13821eca2249d493cba8e45d1f6a98bb1fc6d8269a3b9b3d675a8e709c, input=0x128acb080000000000000000000000002a8466a3135d1e4d51b2ebe07bfb9d1f6797795b00000000000000000000000000000000000000000000000000000000000000010000000000000000000000000000000000000000000000000063cb542046d4ff00000000000000000000000000000000000000000000000000000001000276a400000000000000000000000000000000000000000000000000000000000000a000000000000000000000000000000000000000000000000000000000000000200000000000000000000000004200000000000000000000000000000000000006\n",
      "tx_hash=0x17d67e13821eca2249d493cba8e45d1f6a98bb1fc6d8269a3b9b3d675a8e709c, input=0x128acb080000000000000000000000002a8466a3135d1e4d51b2ebe07bfb9d1f6797795b0000000000000000000000000000000000000000000000000000000000000001000000000000000000000000000000000000000000000000180e6d3832ac948300000000000000000000000000000000000000000000000000000001000276a400000000000000000000000000000000000000000000000000000000000000a000000000000000000000000000000000000000000000000000000000000000200000000000000000000000004200000000000000000000000000000000000006\n",
      "tx_hash=0x17d67e13821eca2249d493cba8e45d1f6a98bb1fc6d8269a3b9b3d675a8e709c, input=0x128acb080000000000000000000000002a8466a3135d1e4d51b2ebe07bfb9d1f6797795b000000000000000000000000000000000000000000000000000000000000000100000000000000000000000000000000000000000000000019643193dffd949c00000000000000000000000000000000000000000000000000000001000276a400000000000000000000000000000000000000000000000000000000000000a000000000000000000000000000000000000000000000000000000000000000200000000000000000000000004200000000000000000000000000000000000006\n",
      "tx_hash=0x17d67e13821eca2249d493cba8e45d1f6a98bb1fc6d8269a3b9b3d675a8e709c, input=0x128acb080000000000000000000000002a8466a3135d1e4d51b2ebe07bfb9d1f6797795b000000000000000000000000000000000000000000000000000000000000000100000000000000000000000000000000000000000000000002ffb38a4f04726800000000000000000000000000000000000000000000000000000001000276a400000000000000000000000000000000000000000000000000000000000000a000000000000000000000000000000000000000000000000000000000000000200000000000000000000000004200000000000000000000000000000000000006\n",
      "tx_hash=0x17d67e13821eca2249d493cba8e45d1f6a98bb1fc6d8269a3b9b3d675a8e709c, input=0x128acb0800000000000000000000000019ceead7105607cd444f5ad10dd51356436095a10000000000000000000000000000000000000000000000000000000000000000000000000000000000000000000000000000000000000000308207cb583584d2000000000000000000000000fffd8963efd1fc6a506488495d951d5263988d2500000000000000000000000000000000000000000000000000000000000000a00000000000000000000000000000000000000000000000000000000000000020000000000000000000000000c1cba3fcea344f92d9239c08c0568f6f2f0ee452\n",
      "tx_hash=0x17d67e13821eca2249d493cba8e45d1f6a98bb1fc6d8269a3b9b3d675a8e709c, input=0x128acb080000000000000000000000002a8466a3135d1e4d51b2ebe07bfb9d1f6797795b0000000000000000000000000000000000000000000000000000000000000001000000000000000000000000000000000000000000000000016711c42a00853500000000000000000000000000000000000000000000000000000001000276a400000000000000000000000000000000000000000000000000000000000000a000000000000000000000000000000000000000000000000000000000000000200000000000000000000000004200000000000000000000000000000000000006\n",
      "tx_hash=0x17d67e13821eca2249d493cba8e45d1f6a98bb1fc6d8269a3b9b3d675a8e709c, input=0x128acb080000000000000000000000002a8466a3135d1e4d51b2ebe07bfb9d1f6797795b00000000000000000000000000000000000000000000000000000000000000010000000000000000000000000000000000000000000000000044affa714b3a0e00000000000000000000000000000000000000000000000000000001000276a400000000000000000000000000000000000000000000000000000000000000a000000000000000000000000000000000000000000000000000000000000000200000000000000000000000004200000000000000000000000000000000000006\n",
      "tx_hash=0x17d67e13821eca2249d493cba8e45d1f6a98bb1fc6d8269a3b9b3d675a8e709c, input=0x128acb080000000000000000000000002a8466a3135d1e4d51b2ebe07bfb9d1f6797795b0000000000000000000000000000000000000000000000000000000000000001000000000000000000000000000000000000000000000000fca6e4ac1d4bfae700000000000000000000000000000000000000000000000000000001000276a400000000000000000000000000000000000000000000000000000000000000a000000000000000000000000000000000000000000000000000000000000000200000000000000000000000004200000000000000000000000000000000000006\n",
      "tx_hash=0x17d67e13821eca2249d493cba8e45d1f6a98bb1fc6d8269a3b9b3d675a8e709c, input=0x128acb080000000000000000000000002a8466a3135d1e4d51b2ebe07bfb9d1f6797795b00000000000000000000000000000000000000000000000000000000000000010000000000000000000000000000000000000000000000002b0a305a67ccdc4300000000000000000000000000000000000000000000000000000001000276a400000000000000000000000000000000000000000000000000000000000000a000000000000000000000000000000000000000000000000000000000000000200000000000000000000000004200000000000000000000000000000000000006\n",
      "tx_hash=0x17d67e13821eca2249d493cba8e45d1f6a98bb1fc6d8269a3b9b3d675a8e709c, input=0x128acb080000000000000000000000002a8466a3135d1e4d51b2ebe07bfb9d1f6797795b0000000000000000000000000000000000000000000000000000000000000001000000000000000000000000000000000000000000000000036c9e0ed4f307ac00000000000000000000000000000000000000000000000000000001000276a400000000000000000000000000000000000000000000000000000000000000a000000000000000000000000000000000000000000000000000000000000000200000000000000000000000004200000000000000000000000000000000000006\n",
      "tx_hash=0x17d67e13821eca2249d493cba8e45d1f6a98bb1fc6d8269a3b9b3d675a8e709c, input=0x128acb080000000000000000000000002a8466a3135d1e4d51b2ebe07bfb9d1f6797795b000000000000000000000000000000000000000000000000000000000000000100000000000000000000000000000000000000000000000019643193dffd949c00000000000000000000000000000000000000000000000000000001000276a400000000000000000000000000000000000000000000000000000000000000a000000000000000000000000000000000000000000000000000000000000000200000000000000000000000004200000000000000000000000000000000000006\n",
      "tx_hash=0x17d67e13821eca2249d493cba8e45d1f6a98bb1fc6d8269a3b9b3d675a8e709c, input=0x128acb0800000000000000000000000019ceead7105607cd444f5ad10dd51356436095a10000000000000000000000000000000000000000000000000000000000000000000000000000000000000000000000000000000000000000000000000040415e000000000000000000000000fffd8963efd1fc6a506488495d951d5263988d2500000000000000000000000000000000000000000000000000000000000000a00000000000000000000000000000000000000000000000000000000000000020000000000000000000000000cbb7c0000ab88b473b1f5afd9ef808440eed33bf\n",
      "tx_hash=0x17d67e13821eca2249d493cba8e45d1f6a98bb1fc6d8269a3b9b3d675a8e709c, input=0x128acb0800000000000000000000000019ceead7105607cd444f5ad10dd51356436095a10000000000000000000000000000000000000000000000000000000000000000000000000000000000000000000000000000000000000000308207cb583584d2000000000000000000000000fffd8963efd1fc6a506488495d951d5263988d2500000000000000000000000000000000000000000000000000000000000000a00000000000000000000000000000000000000000000000000000000000000020000000000000000000000000c1cba3fcea344f92d9239c08c0568f6f2f0ee452\n",
      "tx_hash=0x17d67e13821eca2249d493cba8e45d1f6a98bb1fc6d8269a3b9b3d675a8e709c, input=0x128acb0800000000000000000000000019ceead7105607cd444f5ad10dd51356436095a1000000000000000000000000000000000000000000000000000000000000000100000000000000000000000000000000000000000000000000000001bb72a2e300000000000000000000000000000000000000000000000000000001000276a400000000000000000000000000000000000000000000000000000000000000a00000000000000000000000000000000000000000000000000000000000000020000000000000000000000000833589fcd6edb6e08f4c7c32d4f71b54bda02913\n",
      "tx_hash=0x17d67e13821eca2249d493cba8e45d1f6a98bb1fc6d8269a3b9b3d675a8e709c, input=0x128acb0800000000000000000000000019ceead7105607cd444f5ad10dd51356436095a100000000000000000000000000000000000000000000000000000000000000010000000000000000000000000000000000000000000000004a36d956e0f9c5b000000000000000000000000000000000000000000000000000000001000276a400000000000000000000000000000000000000000000000000000000000000a000000000000000000000000000000000000000000000000000000000000000200000000000000000000000004200000000000000000000000000000000000006\n",
      "tx_hash=0x17d67e13821eca2249d493cba8e45d1f6a98bb1fc6d8269a3b9b3d675a8e709c, input=0x128acb080000000000000000000000002a8466a3135d1e4d51b2ebe07bfb9d1f6797795b000000000000000000000000000000000000000000000000000000000000000100000000000000000000000000000000000000000000000008f893e9627cad5a00000000000000000000000000000000000000000000000000000001000276a400000000000000000000000000000000000000000000000000000000000000a000000000000000000000000000000000000000000000000000000000000000200000000000000000000000004200000000000000000000000000000000000006\n",
      "tx_hash=0x17d67e13821eca2249d493cba8e45d1f6a98bb1fc6d8269a3b9b3d675a8e709c, input=0x128acb080000000000000000000000008b49c7ec53cb4ca3666bb16727fc5c5f6d12226f000000000000000000000000000000000000000000000000000000000000000000000000000000000000000000000000000000000000000000ecafd8fc977ea3000000000000000000000000fffd8963efd1fc6a506488495d951d5263988d2500000000000000000000000000000000000000000000000000000000000000a000000000000000000000000000000000000000000000000000000000000000200000000000000000000000004200000000000000000000000000000000000006\n",
      "tx_hash=0x17d67e13821eca2249d493cba8e45d1f6a98bb1fc6d8269a3b9b3d675a8e709c, input=0x128acb08000000000000000000000000d433b339c5c801228e1343c678dc26213a7b8aac00000000000000000000000000000000000000000000000000000000000000010000000000000000000000000000000000000000000000000048beca3cb98bac00000000000000000000000000000000000000000000000000000001000276a400000000000000000000000000000000000000000000000000000000000000a000000000000000000000000000000000000000000000000000000000000000200000000000000000000000004200000000000000000000000000000000000006\n",
      "tx_hash=0x17d67e13821eca2249d493cba8e45d1f6a98bb1fc6d8269a3b9b3d675a8e709c, input=0x128acb080000000000000000000000002a8466a3135d1e4d51b2ebe07bfb9d1f6797795b0000000000000000000000000000000000000000000000000000000000000001000000000000000000000000000000000000000000000000fca6e4ac1d4bfae700000000000000000000000000000000000000000000000000000001000276a400000000000000000000000000000000000000000000000000000000000000a000000000000000000000000000000000000000000000000000000000000000200000000000000000000000004200000000000000000000000000000000000006\n",
      "tx_hash=0x812bf78d7a078503813680d8df80960b4546e2feaffeeae5030475543298d5d9, input=0x128acb08000000000000000000000000b7b8f759e8bd293b91632100f53a45859832f4630000000000000000000000000000000000000000000000000000000000000001000000000000000000000000000000000000000000000000d55cad1f0e2996b00000000000000000000000000000000000000000000342d5c32e79dc6000000000000000000000000000000000000000000000000000000000000000000000a000000000000000000000000000000000000000000000000000000000000000023078000000000000000000000000000000000000000000000000000000000000\n",
      "tx_hash=0xf276a0fd7b65d811a67cf2529720852463167a482909c70d1b272e6c253511cc, input=0x128acb080000000000000000000000006ff5693b99212da76ad316178a184ab56d299b43000000000000000000000000000000000000000000000000000000000000000100000000000000000000000000000000000000000000000006b973de45dda29500000000000000000000000000000000000000000000000000000001000276a400000000000000000000000000000000000000000000000000000000000000a000000000000000000000000000000000000000000000000000000000000000a000000000000000000000000000000000000000000000000000000000000000400000000000000000000000006ff5693b99212da76ad316178a184ab56d299b43000000000000000000000000000000000000000000000000000000000000002b42000000000000000000000000000000000000060001f4833589fcd6edb6e08f4c7c32d4f71b54bda02913000000000000000000000000000000000000000000\n",
      "tx_hash=0xf276a0fd7b65d811a67cf2529720852463167a482909c70d1b272e6c253511cc, input=0x128acb080000000000000000000000006ff5693b99212da76ad316178a184ab56d299b4300000000000000000000000000000000000000000000000000000000000000010000000000000000000000000000000000000000000000226e817ba085740d1e00000000000000000000000000000000000000000000000000000001000276a400000000000000000000000000000000000000000000000000000000000000a000000000000000000000000000000000000000000000000000000000000000a0000000000000000000000000000000000000000000000000000000000000004000000000000000000000000000000009e70d153a81f4c972dd123c4b71b7441c000000000000000000000000000000000000000000000000000000000000002b0b3e328455c4059eeb9e3f84b5543f74e24e7e1b0001f44200000000000000000000000000000000000006000000000000000000000000000000000000000000\n",
      "tx_hash=0x16993d43ad9a5d2acdbe55989ce1f11d439a872c275eb4f027b59bfb3db91a54, input=0x128acb080000000000000000000000006ff5693b99212da76ad316178a184ab56d299b4300000000000000000000000000000000000000000000000000000000000000010000000000000000000000000000000000000000000000226e817ba085740d1e00000000000000000000000000000000000000000000000000000001000276a400000000000000000000000000000000000000000000000000000000000000a000000000000000000000000000000000000000000000000000000000000000a0000000000000000000000000000000000000000000000000000000000000004000000000000000000000000000000009e70d153a81f4c972dd123c4b71b7441c000000000000000000000000000000000000000000000000000000000000002b0b3e328455c4059eeb9e3f84b5543f74e24e7e1b0001f44200000000000000000000000000000000000006000000000000000000000000000000000000000000\n",
      "tx_hash=0x16993d43ad9a5d2acdbe55989ce1f11d439a872c275eb4f027b59bfb3db91a54, input=0x128acb080000000000000000000000006ff5693b99212da76ad316178a184ab56d299b43000000000000000000000000000000000000000000000000000000000000000100000000000000000000000000000000000000000000000006b973de45dda29500000000000000000000000000000000000000000000000000000001000276a400000000000000000000000000000000000000000000000000000000000000a000000000000000000000000000000000000000000000000000000000000000a000000000000000000000000000000000000000000000000000000000000000400000000000000000000000006ff5693b99212da76ad316178a184ab56d299b43000000000000000000000000000000000000000000000000000000000000002b42000000000000000000000000000000000000060001f4833589fcd6edb6e08f4c7c32d4f71b54bda02913000000000000000000000000000000000000000000\n",
      "tx_hash=0xaf185d163fa7046fe5a4a1fd95bf057abca37ca34d98cc4e2e7f05241de8cfb4, input=0x128acb080000000000000000000000006ff5693b99212da76ad316178a184ab56d299b4300000000000000000000000000000000000000000000000000000000000000010000000000000000000000000000000000000000000000226e817ba085740d1e00000000000000000000000000000000000000000000000000000001000276a400000000000000000000000000000000000000000000000000000000000000a000000000000000000000000000000000000000000000000000000000000000a0000000000000000000000000000000000000000000000000000000000000004000000000000000000000000000000009e70d153a81f4c972dd123c4b71b7441c000000000000000000000000000000000000000000000000000000000000002b0b3e328455c4059eeb9e3f84b5543f74e24e7e1b0001f44200000000000000000000000000000000000006000000000000000000000000000000000000000000\n",
      "tx_hash=0xaf185d163fa7046fe5a4a1fd95bf057abca37ca34d98cc4e2e7f05241de8cfb4, input=0x128acb080000000000000000000000006ff5693b99212da76ad316178a184ab56d299b43000000000000000000000000000000000000000000000000000000000000000100000000000000000000000000000000000000000000000006b973de45dda29500000000000000000000000000000000000000000000000000000001000276a400000000000000000000000000000000000000000000000000000000000000a000000000000000000000000000000000000000000000000000000000000000a000000000000000000000000000000000000000000000000000000000000000400000000000000000000000006ff5693b99212da76ad316178a184ab56d299b43000000000000000000000000000000000000000000000000000000000000002b42000000000000000000000000000000000000060001f4833589fcd6edb6e08f4c7c32d4f71b54bda02913000000000000000000000000000000000000000000\n",
      "tx_hash=0x916ddbcab692651741c26305c4b4d3446835debfba5da23dd157ab7848ab1cfd, input=0x128acb080000000000000000000000006ff5693b99212da76ad316178a184ab56d299b43000000000000000000000000000000000000000000000000000000000000000100000000000000000000000000000000000000000000000006b973de45dda29500000000000000000000000000000000000000000000000000000001000276a400000000000000000000000000000000000000000000000000000000000000a000000000000000000000000000000000000000000000000000000000000000a000000000000000000000000000000000000000000000000000000000000000400000000000000000000000006ff5693b99212da76ad316178a184ab56d299b43000000000000000000000000000000000000000000000000000000000000002b42000000000000000000000000000000000000060001f4833589fcd6edb6e08f4c7c32d4f71b54bda02913000000000000000000000000000000000000000000\n",
      "tx_hash=0x916ddbcab692651741c26305c4b4d3446835debfba5da23dd157ab7848ab1cfd, input=0x128acb080000000000000000000000006ff5693b99212da76ad316178a184ab56d299b4300000000000000000000000000000000000000000000000000000000000000010000000000000000000000000000000000000000000000226e817ba085740d1e00000000000000000000000000000000000000000000000000000001000276a400000000000000000000000000000000000000000000000000000000000000a000000000000000000000000000000000000000000000000000000000000000a0000000000000000000000000000000000000000000000000000000000000004000000000000000000000000000000009e70d153a81f4c972dd123c4b71b7441c000000000000000000000000000000000000000000000000000000000000002b0b3e328455c4059eeb9e3f84b5543f74e24e7e1b0001f44200000000000000000000000000000000000006000000000000000000000000000000000000000000\n",
      "tx_hash=0x4251e3e7a28a616bcb2c1e2c05311d7b870aefbd734663b776d9bd723042abfa, input=0x128acb08000000000000000000000000b7b8f759e8bd293b91632100f53a45859832f4630000000000000000000000000000000000000000000000000000000000000001000000000000000000000000000000000000000000000000d55cad1f0e2996b00000000000000000000000000000000000000000000342d5bcb12e90e000000000000000000000000000000000000000000000000000000000000000000000a000000000000000000000000000000000000000000000000000000000000000023078000000000000000000000000000000000000000000000000000000000000\n",
      "tx_hash=0xe25e550b77646fbed6527c09598a95669b7f7df400ba60ffc9efb8f50ebe044b, input=0x128acb08000000000000000000000000b7b8f759e8bd293b91632100f53a45859832f4630000000000000000000000000000000000000000000000000000000000000001000000000000000000000000000000000000000000000000d55cad1f0e2996b00000000000000000000000000000000000000000000342d5bd9bc7c62000000000000000000000000000000000000000000000000000000000000000000000a000000000000000000000000000000000000000000000000000000000000000023078000000000000000000000000000000000000000000000000000000000000\n",
      "tx_hash=0x490d3d76e769b772f93fc4b8a0b2f4e283de14a74d4f3abfa7fb206a6fd06a57, input=0x128acb08000000000000000000000000824cc937556a34a1adda8b9c14db4511aa32b11d00000000000000000000000000000000000000000000000000000000000000010000000000000000000000000000000000000000000000000053b660421b7f4800000000000000000000000000000000000000000000000000000001000276a400000000000000000000000000000000000000000000000000000000000000a000000000000000000000000000000000000000000000000000000000000000c000000000000000000000000000000000000000000000000000000000000000200000000000000000000000000000000000000000000000000000000000000040000000000000000000000000824cc937556a34a1adda8b9c14db4511aa32b11d000000000000000000000000000000000000000000000000000000000000002b091a5a1e3aa8b96ab0fb0bc217f5e60ec4c611a0000064833589fcd6edb6e08f4c7c32d4f71b54bda02913000000000000000000000000000000000000000000\n",
      "tx_hash=0x490d3d76e769b772f93fc4b8a0b2f4e283de14a74d4f3abfa7fb206a6fd06a57, input=0x128acb08000000000000000000000000824cc937556a34a1adda8b9c14db4511aa32b11d00000000000000000000000000000000000000000000000000000000000000000000000000000000000000000000000000000000000000000000000005f5e100000000000000000000000000fffd8963efd1fc6a506488495d951d5263988d2500000000000000000000000000000000000000000000000000000000000000a000000000000000000000000000000000000000000000000000000000000000c000000000000000000000000000000000000000000000000000000000000000200000000000000000000000000000000000000000000000000000000000000040000000000000000000000000824cc937556a34a1adda8b9c14db4511aa32b11d000000000000000000000000000000000000000000000000000000000000002b833589fcd6edb6e08f4c7c32d4f71b54bda029130000644200000000000000000000000000000000000006000000000000000000000000000000000000000000\n",
      "tx_hash=0x490d3d76e769b772f93fc4b8a0b2f4e283de14a74d4f3abfa7fb206a6fd06a57, input=0x128acb08000000000000000000000000824cc937556a34a1adda8b9c14db4511aa32b11d00000000000000000000000000000000000000000000000000000000000000010000000000000000000000000000000000000000000000000053b660421b7f4800000000000000000000000000000000000000000000000000000001000276a400000000000000000000000000000000000000000000000000000000000000a000000000000000000000000000000000000000000000000000000000000000c000000000000000000000000000000000000000000000000000000000000000200000000000000000000000000000000000000000000000000000000000000040000000000000000000000000824cc937556a34a1adda8b9c14db4511aa32b11d000000000000000000000000000000000000000000000000000000000000002b091a5a1e3aa8b96ab0fb0bc217f5e60ec4c611a0000064833589fcd6edb6e08f4c7c32d4f71b54bda02913000000000000000000000000000000000000000000\n",
      "tx_hash=0x490d3d76e769b772f93fc4b8a0b2f4e283de14a74d4f3abfa7fb206a6fd06a57, input=0x128acb08000000000000000000000000824cc937556a34a1adda8b9c14db4511aa32b11d00000000000000000000000000000000000000000000000000000000000000000000000000000000000000000000000000000000000000000000000005f5e100000000000000000000000000fffd8963efd1fc6a506488495d951d5263988d2500000000000000000000000000000000000000000000000000000000000000a000000000000000000000000000000000000000000000000000000000000000c000000000000000000000000000000000000000000000000000000000000000200000000000000000000000000000000000000000000000000000000000000040000000000000000000000000824cc937556a34a1adda8b9c14db4511aa32b11d000000000000000000000000000000000000000000000000000000000000002b833589fcd6edb6e08f4c7c32d4f71b54bda029130000644200000000000000000000000000000000000006000000000000000000000000000000000000000000\n"
     ]
    }
   ],
   "source": [
    "data = df.filter(pl.col('function_selector').eq('0x128acb08')).head(100)\n",
    "for row in data.collect().iter_rows(named=True):\n",
    "    print(f\"tx_hash={row['tx_hash']}, input={row['input']}\")"
   ]
  },
  {
   "cell_type": "code",
   "execution_count": 31,
   "id": "c3dd4cbf",
   "metadata": {},
   "outputs": [
    {
     "name": "stdout",
     "output_type": "stream",
     "text": [
      "function_selector=0x70a08231, function_selector_label=balanceOf(address), count=56944, tx_hash=0x6aaa7e785df914943d12dfb0b825b5d43f196b96eb84b605d525405a027b697c, sample_input=0x70a08231000000000000000000000000d1a0d188e861ed9d15773a2f3574a2e94134ba8f\n",
      "function_selector=0xa9059cbb, function_selector_label=transfer(address,uint256), count=21522, tx_hash=0x068fe17b56909063edc72a258e55ada673f83790f6cb05cbef839730780c058f, sample_input=0xa9059cbb000000000000000000000000242f656b099a188bfc523bd56f84a6a9472d917400000000000000000000000000000000000000000000000000000000000f2228\n",
      "function_selector=0x128acb08, function_selector_label=swap(address,bool,int256,uint160,bytes), count=7903, tx_hash=0x068fe17b56909063edc72a258e55ada673f83790f6cb05cbef839730780c058f, sample_input=0x128acb080000000000000000000000006e4141d33021b52c91c28608403db4a0ffb50ec6000000000000000000000000000000000000000000000000000000000000000100000000000000000000000000000000000000000000000000016c59fcd1607f00000000000000000000000000000000000000000000000000000001000276a400000000000000000000000000000000000000000000000000000000000000a000000000000000000000000000000000000000000000000000000000000000e0000000000000000000000000000000000000000000000000000000000000002000000000000000000000000000000000000000000000000000000000000000400000000000000000000000006e4141d33021b52c91c28608403db4a0ffb50ec600000000000000000000000000000000000000000000000000000000000000600000000000000000000000007ddd5fc2588d58c0ebc7e8cfd3d94ee34cf85b230000000000000000000000004200000000000000000000000000000000000006000000000000000000000000d9aaec86b65d86f6a7b5b1b0c42ffa531710b6ca\n",
      "function_selector=0x3850c7bd, function_selector_label=slot0(), count=7323, tx_hash=0x5bf0114a4258b223338fc19f40308512b5e6985180f30682ecb3f5c19e9943f8, sample_input=0x3850c7bd\n",
      "function_selector=0x23b872dd, function_selector_label=transferFrom(address,address,uint256), count=6100, tx_hash=0x068fe17b56909063edc72a258e55ada673f83790f6cb05cbef839730780c058f, sample_input=0x23b872dd000000000000000000000000242f656b099a188bfc523bd56f84a6a9472d91740000000000000000000000001231deb6f5749ef6ce6943a275a1d3e7486f4eae00000000000000000000000000000000000000000000000000000000000f4240\n",
      "function_selector=0xf135baaa, function_selector_label=exttload(bytes32), count=4607, tx_hash=0xccbed20db1f554a3531a760b359228751f7f5239b2bbe288e1b2c07c916d90a5, sample_input=0xf135baaa4ba6b2a737c4f6bd0e8ba9b88c86d3bc1259e7ca2b2da32eaf56e38308ebeff3\n",
      "function_selector=0x48c89491, function_selector_label=unlock(bytes), count=3724, tx_hash=0x068fe17b56909063edc72a258e55ada673f83790f6cb05cbef839730780c058f, sample_input=0x48c89491000000000000000000000000000000000000000000000000000000000000002000000000000000000000000000000000000000000000000000000000000002c000000000000000000000000000000000000000000000000000000000000000200000000000000000000000006e4141d33021b52c91c28608403db4a0ffb50ec60000000000000000000000006e4141d33021b52c91c28608403db4a0ffb50ec60000000000000000000000000000000000000000000000000000000000000000000000000000000000000000833589fcd6edb6e08f4c7c32d4f71b54bda02913000000000000000000000000000000000000000000000000000000000000001e000000000000000000000000000000000000000000000000000000000000000100000000000000000000000083863f772f93e2a209dab0af924ca3d6764a40c40000000000000000000000000000000000000000000000000000000000000000fffffffffffffffffffffffffffffffffffffffffffffffffffffffffff0d9180000000000000000000000000000000000000000000377c7d6de8246eb040ce0000000000000000000000000000000000000000000000000000000000000016000000000000000000000000000000000000000000000000000000000000001200000000000000000000000000000000000000000000000000000000000122eb00000000000000000000000000000000000000000180ef89bf16a8f57efa624cc000000000000000000000000000000000000000000000001000000000000000000000000000000000000000000000000000000000000000000000000682cb59d00000000000000000000000000000000000000000000000000000000000000a00000000000000000000000000000000000000000000000000000000000000041490fa6d27798e5e756d6405f285768b5c29cd58643082b354d586388550af946578eecd9559d00bfe4b790cb1a8ca15688b808f356cf5fac2eca34d8d8a5b8a41b00000000000000000000000000000000000000000000000000000000000000\n",
      "function_selector=0x91dd7346, function_selector_label=unlockCallback(bytes), count=3453, tx_hash=0x068fe17b56909063edc72a258e55ada673f83790f6cb05cbef839730780c058f, sample_input=0x91dd7346000000000000000000000000000000000000000000000000000000000000002000000000000000000000000000000000000000000000000000000000000002c000000000000000000000000000000000000000000000000000000000000000200000000000000000000000006e4141d33021b52c91c28608403db4a0ffb50ec60000000000000000000000006e4141d33021b52c91c28608403db4a0ffb50ec60000000000000000000000000000000000000000000000000000000000000000000000000000000000000000833589fcd6edb6e08f4c7c32d4f71b54bda02913000000000000000000000000000000000000000000000000000000000000001e000000000000000000000000000000000000000000000000000000000000000100000000000000000000000083863f772f93e2a209dab0af924ca3d6764a40c40000000000000000000000000000000000000000000000000000000000000000fffffffffffffffffffffffffffffffffffffffffffffffffffffffffff0d9180000000000000000000000000000000000000000000377c7d6de8246eb040ce0000000000000000000000000000000000000000000000000000000000000016000000000000000000000000000000000000000000000000000000000000001200000000000000000000000000000000000000000000000000000000000122eb00000000000000000000000000000000000000000180ef89bf16a8f57efa624cc000000000000000000000000000000000000000000000001000000000000000000000000000000000000000000000000000000000000000000000000682cb59d00000000000000000000000000000000000000000000000000000000000000a00000000000000000000000000000000000000000000000000000000000000041490fa6d27798e5e756d6405f285768b5c29cd58643082b354d586388550af946578eecd9559d00bfe4b790cb1a8ca15688b808f356cf5fac2eca34d8d8a5b8a41b00000000000000000000000000000000000000000000000000000000000000\n",
      "function_selector=0xf3cd914c, function_selector_label=swap((address,address,uint24,int24,address),(bool,int256,uint160),bytes), count=3280, tx_hash=0x068fe17b56909063edc72a258e55ada673f83790f6cb05cbef839730780c058f, sample_input=0xf3cd914c0000000000000000000000000000000000000000000000000000000000000000000000000000000000000000833589fcd6edb6e08f4c7c32d4f71b54bda02913000000000000000000000000000000000000000000000000000000000000001e000000000000000000000000000000000000000000000000000000000000000100000000000000000000000083863f772f93e2a209dab0af924ca3d6764a40c40000000000000000000000000000000000000000000000000000000000000000fffffffffffffffffffffffffffffffffffffffffffffffffffffffffff0d9180000000000000000000000000000000000000000000377c7d6de8246eb040ce0000000000000000000000000000000000000000000000000000000000000012000000000000000000000000000000000000000000000000000000000000001200000000000000000000000000000000000000000000000000000000000122eb00000000000000000000000000000000000000000180ef89bf16a8f57efa624cc000000000000000000000000000000000000000000000001000000000000000000000000000000000000000000000000000000000000000000000000682cb59d00000000000000000000000000000000000000000000000000000000000000a00000000000000000000000000000000000000000000000000000000000000041490fa6d27798e5e756d6405f285768b5c29cd58643082b354d586388550af946578eecd9559d00bfe4b790cb1a8ca15688b808f356cf5fac2eca34d8d8a5b8a41b00000000000000000000000000000000000000000000000000000000000000\n",
      "function_selector=0xd0c93a7c, function_selector_label=tickSpacing(), count=3006, tx_hash=0x076ddd14f5904864f3bd86e96c6487209caeb7b95eeb8ac40d4a46bd4cc1a2cf, sample_input=0xd0c93a7c\n",
      "function_selector=0x34df7d41, function_selector_label=, count=2943, tx_hash=0xccbed20db1f554a3531a760b359228751f7f5239b2bbe288e1b2c07c916d90a5, sample_input=0x34df7d4100000000000000000000000000000000000000000000000000000000682cb5140000000000000000000000004200000000000000000000000000000000000006000000000000000000000000833589fcd6edb6e08f4c7c32d4f71b54bda029130000000000000000000000000000000000000000000000000000000000000003000000000000000000000000000000000000000000000000000000000000000000000000000000000000000000000000000000000000000000000000000000010000000000000000000000000000000000000000000000000000000000000000000000000000000000000000000000000000000000000001e86a25ac9b9e600000000000000000000000000000000000000000000000000000000000000000000000000000000000000000000000000000000000000342d78893ccfe4000000000000000000000000000000000000000000aa2810b59b4c8800000000000000000000000000000000000000000000000000000000000000000000000000001e0000000000000000000000000000000000000000000000000000000000000000000000000000000000000000000000000000aa25e32b1f0c3800000000000000000000000000000000000000000000000000000000000000000000000000000000000000000000000000000000000000000000000000000000000000000000000\n",
      "function_selector=0x, function_selector_label=, count=2733, tx_hash=0x068fe17b56909063edc72a258e55ada673f83790f6cb05cbef839730780c058f, sample_input=0x\n",
      "function_selector=0xfa461e33, function_selector_label=uniswapV3SwapCallback(int256,int256,bytes), count=2684, tx_hash=0x068fe17b56909063edc72a258e55ada673f83790f6cb05cbef839730780c058f, sample_input=0xfa461e3300000000000000000000000000000000000000000000000000016c59fcd1607ffffffffffffffffffffffffffffffffffffffffffffffffffffffffffff0ddd8000000000000000000000000000000000000000000000000000000000000006000000000000000000000000000000000000000000000000000000000000000e0000000000000000000000000000000000000000000000000000000000000002000000000000000000000000000000000000000000000000000000000000000400000000000000000000000006e4141d33021b52c91c28608403db4a0ffb50ec600000000000000000000000000000000000000000000000000000000000000600000000000000000000000007ddd5fc2588d58c0ebc7e8cfd3d94ee34cf85b230000000000000000000000004200000000000000000000000000000000000006000000000000000000000000d9aaec86b65d86f6a7b5b1b0c42ffa531710b6ca\n",
      "function_selector=0x0b0d9c09, function_selector_label=take(address,address,uint256), count=2534, tx_hash=0x068fe17b56909063edc72a258e55ada673f83790f6cb05cbef839730780c058f, sample_input=0x0b0d9c0900000000000000000000000000000000000000000000000000000000000000000000000000000000000000006e4141d33021b52c91c28608403db4a0ffb50ec600000000000000000000000000000000000000000000000000016c59fcd1607f\n",
      "function_selector=0x11da60b4, function_selector_label=settle(), count=2522, tx_hash=0x068fe17b56909063edc72a258e55ada673f83790f6cb05cbef839730780c058f, sample_input=0x11da60b4\n",
      "function_selector=0x1a686502, function_selector_label=liquidity(), count=2301, tx_hash=0x1728ce824f31c7039a55d2c5836ce8b4f9c26db7458030a5c551537743704da5, sample_input=0x1a686502\n",
      "function_selector=0x5339c296, function_selector_label=tickBitmap(int16), count=2196, tx_hash=0x1728ce824f31c7039a55d2c5836ce8b4f9c26db7458030a5c551537743704da5, sample_input=0x5339c296fffffffffffffffffffffffffffffffffffffffffffffffffffffffffffffcf9\n",
      "function_selector=0xb88c9148, function_selector_label=getFee(address), count=2179, tx_hash=0x78221a048751281585ce8a495b611781a7466bb8511db4313adf81e377dbd973, sample_input=0xb88c9148000000000000000000000000dfe5f275020def30993f042174fc2d335678b626\n",
      "function_selector=0x095ea7b3, function_selector_label=approve(address,uint256), count=2123, tx_hash=0x6be18df744021e1a257e2c2a80a4820f760764a964ba501ee1f2565fc6b3a552, sample_input=0x095ea7b3000000000000000000000000000000001ec5656dcdb24d90dfa42742738de729ffffffffffffffffffffffffffffffffffffffffffffffffffffffffffffffff\n",
      "function_selector=0xa5bf2516, function_selector_label=, count=1838, tx_hash=0xd0039ad072ed8dc609cc804ec58be5b7e31ee380fa71c688af9e4522882830f7, sample_input=0xa5bf251600000000000000000000000000000000000000000000000000000000682cb516000000000000000000000000482fe995c4a52bc79271ab29a53591363ee30a89000000000000000000000000833589fcd6edb6e08f4c7c32d4f71b54bda02913000000000000000000000000420000000000000000000000000000000000000600000000000000000000000000000000000000000000000000000013f97a58a200000000000000000000000000000000000000000000000000000000000000000000000000000000000000000000000000000000000342ceb575de04400000000000000000000000000018126009b4c11c000000000000000000000000000000000000000000000000000000000000000000000000000000000000000000000000000000000000000000000000010000000000000000000000000000000000000000000000000000000000000000000000000000000000000000000000000000\n",
      "function_selector=0x0902f1ac, function_selector_label=getReserves(), count=1689, tx_hash=0x84bc77243fa733f55eb046e0f3221a2a5b92cd8dcb2519f90bf745bdd93275ae, sample_input=0x0902f1ac\n",
      "function_selector=0xa5841194, function_selector_label=sync(address), count=1681, tx_hash=0x068fe17b56909063edc72a258e55ada673f83790f6cb05cbef839730780c058f, sample_input=0xa5841194000000000000000000000000833589fcd6edb6e08f4c7c32d4f71b54bda02913\n",
      "function_selector=0x2e1a7d4d, function_selector_label=withdraw(uint256), count=1589, tx_hash=0xccbed20db1f554a3531a760b359228751f7f5239b2bbe288e1b2c07c916d90a5, sample_input=0x2e1a7d4d000000000000000000000000000000000000000000000000000000220f70cfe1\n",
      "function_selector=0xddca3f43, function_selector_label=fee(), count=1476, tx_hash=0x1728ce824f31c7039a55d2c5836ce8b4f9c26db7458030a5c551537743704da5, sample_input=0xddca3f43\n",
      "function_selector=0x6526f12f, function_selector_label=, count=1404, tx_hash=0x1728ce824f31c7039a55d2c5836ce8b4f9c26db7458030a5c551537743704da5, sample_input=0x6526f12f0000000000000000000000000000000000000000000000000000000000000014000000000000000000000000482fe995c4a52bc79271ab29a53591363ee30a8900000000000000000000000000000000000000000000000000a80bd61267defc0000000000000000000000000000000000000000000000000000000000000064000000000000000000000000000000000000000000000000000000000000000000000000000000000000000000000000000000000000000000000000000000010000000000000000000000004200000000000000000000000000000000000006000000000000000000000000833589fcd6edb6e08f4c7c32d4f71b54bda02913\n",
      "function_selector=0xd0e30db0, function_selector_label=deposit(), count=1385, tx_hash=0x068fe17b56909063edc72a258e55ada673f83790f6cb05cbef839730780c058f, sample_input=0xd0e30db0\n",
      "function_selector=0xfeaf968c, function_selector_label=latestRoundData(), count=1351, tx_hash=0x8b3cfebd31b94d47c3eb1fb30035320fc31b340508c1129e2e30a09c3a1b5573, sample_input=0xfeaf968c\n",
      "function_selector=0x35458dcc, function_selector_label=getSwapFee(address), count=1316, tx_hash=0x78221a048751281585ce8a495b611781a7466bb8511db4313adf81e377dbd973, sample_input=0x35458dcc000000000000000000000000dfe5f275020def30993f042174fc2d335678b626\n",
      "function_selector=0x23a69e75, function_selector_label=pancakeV3SwapCallback(int256,int256,bytes), count=1167, tx_hash=0xacf7c4dc5d9b7448337d0284b7841f328c07e567271f22c33e40f503774fe9cd, sample_input=0x23a69e75ffffffffffffffffffffffffffffffffffffffffffffffffefaa8b749832cd9400000000000000000000000000000000000000000000000000000000adc97f0000000000000000000000000000000000000000000000000000000000000000600000000000000000000000000000000000000000000000000000000000000000\n",
      "function_selector=0x022c0d9f, function_selector_label=transfer_attention_tg_invmru_28108a2(bool,bool,uint256), count=1156, tx_hash=0x84bc77243fa733f55eb046e0f3221a2a5b92cd8dcb2519f90bf745bdd93275ae, sample_input=0x022c0d9f00000000000000000000000000000000000000000000000031d87608a792f04300000000000000000000000000000000000000000000000000000000000000000000000000000000000000006e4141d33021b52c91c28608403db4a0ffb50ec600000000000000000000000000000000000000000000000000000000000000800000000000000000000000000000000000000000000000000000000000000000\n",
      "function_selector=0x214a6fe2, function_selector_label=, count=1120, tx_hash=0xacf7c4dc5d9b7448337d0284b7841f328c07e567271f22c33e40f503774fe9cd, sample_input=0x214a6fe200000000000000000000000000000000000000000000000000000000682cb513\n",
      "function_selector=0x883bdbfd, function_selector_label=observe(uint32[]), count=1007, tx_hash=0x1728ce824f31c7039a55d2c5836ce8b4f9c26db7458030a5c551537743704da5, sample_input=0x883bdbfd0000000000000000000000000000000000000000000000000000000000000020000000000000000000000000000000000000000000000000000000000000000200000000000000000000000000000000000000000000000000000000000003840000000000000000000000000000000000000000000000000000000000000000\n",
      "function_selector=0xa00597a0, function_selector_label=, count=1006, tx_hash=0xd47359949264e59ef916f0916eb17458f1f8c661bd85ba528fbad739dd051e8c, sample_input=0xa00597a00000000000000000000000000000000000000000000000000000000016152b6f0000000000000000000000000000000000000000000342cd416c4e3826450452000000000000000000000000833589fcd6edb6e08f4c7c32d4f71b54bda02913000000000000000000000000000000000000000000000000000000000000000000000000000000000000000072ab388e2e2f6facef59e3c3fa2c4e29011c2d3800000000000000000000000000000000000000000000000000000000682cb5c5\n",
      "function_selector=0x00000000, function_selector_label=, count=913, tx_hash=0x5bf0114a4258b223338fc19f40308512b5e6985180f30682ecb3f5c19e9943f8, sample_input=0x0000000000011c37f0d00000000000000000000342cbb686274850244202001ab8923d26594053\n",
      "function_selector=0x1703e5f9, function_selector_label=isAlive(address), count=913, tx_hash=0x78221a048751281585ce8a495b611781a7466bb8511db4313adf81e377dbd973, sample_input=0x1703e5f90000000000000000000000002b74b62c564456c48055bd515a62594742b3f545\n",
      "function_selector=0x48cf7a43, function_selector_label=, count=912, tx_hash=0x78221a048751281585ce8a495b611781a7466bb8511db4313adf81e377dbd973, sample_input=0x48cf7a43000000000000000000000000dfe5f275020def30993f042174fc2d335678b626\n",
      "function_selector=0xb9a09fd5, function_selector_label=gauges(address), count=912, tx_hash=0x78221a048751281585ce8a495b611781a7466bb8511db4313adf81e377dbd973, sample_input=0xb9a09fd5000000000000000000000000dfe5f275020def30993f042174fc2d335678b626\n",
      "function_selector=0x4fe02b44, function_selector_label=, count=845, tx_hash=0x9a63b89ffb3a2f9cc263abddb50e57086a9bbee5945e35da66e0014169eeb18a, sample_input=0x4fe02b440000000000000000000000008b966efb1bd468154aef3c76965c48950f2e6a1e00ca416d33c3f88ef07af34799f15e256693f59aa4cd62bb14d5ec4c7aefca4d\n",
      "function_selector=0xa4984633, function_selector_label=, count=826, tx_hash=0xacf7c4dc5d9b7448337d0284b7841f328c07e567271f22c33e40f503774fe9cd, sample_input=0xa4984633fffffffffffffffffffffffffffffffffffffffffffffffffffffffffffcf9e30000000000000000000000000000000000000000000000000000000000000000\n",
      "function_selector=0x0dfe1681, function_selector_label=, count=751, tx_hash=0x068fe17b56909063edc72a258e55ada673f83790f6cb05cbef839730780c058f, sample_input=0x0dfe1681\n",
      "function_selector=0x313ce567, function_selector_label=, count=742, tx_hash=0x17d67e13821eca2249d493cba8e45d1f6a98bb1fc6d8269a3b9b3d675a8e709c, sample_input=0x313ce567\n",
      "function_selector=0xdd62ed3e, function_selector_label=, count=726, tx_hash=0x068fe17b56909063edc72a258e55ada673f83790f6cb05cbef839730780c058f, sample_input=0xdd62ed3e0000000000000000000000001231deb6f5749ef6ce6943a275a1d3e7486f4eae0000000000000000000000006131b5fae19ea4f9d964eac0408e4408b66337b5\n",
      "function_selector=0x13fb72c7, function_selector_label=executeBatchWithCallback((bytes,bytes)[],bytes), count=625, tx_hash=0x9a63b89ffb3a2f9cc263abddb50e57086a9bbee5945e35da66e0014169eeb18a, sample_input=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\n",
      "function_selector=0xa15ea89f, function_selector_label=getLatestPeriodInfo(address), count=623, tx_hash=0x076ddd14f5904864f3bd86e96c6487209caeb7b95eeb8ac40d4a46bd4cc1a2cf, sample_input=0xa15ea89f00000000000000000000000072ab388e2e2f6facef59e3c3fa2c4e29011c2d38\n",
      "function_selector=0xe5135ec6, function_selector_label=executeBatch((bytes,bytes)[],bytes), count=615, tx_hash=0x9a63b89ffb3a2f9cc263abddb50e57086a9bbee5945e35da66e0014169eeb18a, sample_input=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\n",
      "function_selector=0x5c60da1b, function_selector_label=, count=548, tx_hash=0x6aaa7e785df914943d12dfb0b825b5d43f196b96eb84b605d525405a027b697c, sample_input=0x5c60da1b\n",
      "function_selector=0x00000001, function_selector_label=, count=533, tx_hash=0x6e5206deada7325818c51c4e895cafe2ee42ee5f7d0ee888c61a78cf926b3a59, sample_input=0x0000000100000000000073182d1c4bcd00000ad23d4dc1732580420000000000000000000000000000000000000600458655f4f3b23a3b06470c4c0a24125cdacce51d92833589fcd6edb6e08f4c7c32d4f71b54bda02913000000000000000000000342da01f296f418f5342a0172ab388e2e2f6facef59e3c3fa2c4e29011c2d3800006400000100\n",
      "function_selector=0x380dc1c2, function_selector_label=tickSpacingToFee(int24), count=529, tx_hash=0x076ddd14f5904864f3bd86e96c6487209caeb7b95eeb8ac40d4a46bd4cc1a2cf, sample_input=0x380dc1c200000000000000000000000000000000000000000000000000000000000000c8\n",
      "function_selector=0x72c98186, function_selector_label=onSwap((uint8,uint256,uint256[],uint256,uint256,address,bytes)), count=519, tx_hash=0x17d67e13821eca2249d493cba8e45d1f6a98bb1fc6d8269a3b9b3d675a8e709c, sample_input=0x72c98186000000000000000000000000000000000000000000000000000000000000002000000000000000000000000000000000000000000000000000000000000000000000000000000000000000000000000000000000000000000766c3b63cbe4d9200000000000000000000000000000000000000000000000000000000000000e0000000000000000000000000000000000000000000000000000000000000000100000000000000000000000000000000000000000000000000000000000000000000000000000000000000002a8466a3135d1e4d51b2ebe07bfb9d1f6797795b00000000000000000000000000000000000000000000000000000000000001400000000000000000000000000000000000000000000000000000000000000002000000000000000000000000000000000000000000000003a22236989d5a93e80000000000000000000000000000000000000000000000017438c3c0474c3a2c0000000000000000000000000000000000000000000000000000000000000000\n",
      "function_selector=0x50d25bcd, function_selector_label=latestAnswer(), count=512, tx_hash=0x17d67e13821eca2249d493cba8e45d1f6a98bb1fc6d8269a3b9b3d675a8e709c, sample_input=0x50d25bcd\n"
     ]
    }
   ],
   "source": [
    "data = (df\n",
    "    .group_by('function_selector')\n",
    "    .agg([pl.len().alias('count'), pl.col(\"input\").first().alias(\"sample_input\"), pl.col('function_selector_label').first(), pl.col('tx_hash').first()])\n",
    "    .sort(by='count', descending=True)\n",
    "    .head(50)\n",
    ")\n",
    "for row in data.collect().iter_rows(named=True):\n",
    "    print(f\"function_selector={row['function_selector']}, function_selector_label={row['function_selector_label']}, count={row['count']}, tx_hash={row['tx_hash']}, sample_input={row['sample_input']}\")"
   ]
  }
 ],
 "metadata": {
  "kernelspec": {
   "display_name": "base",
   "language": "python",
   "name": "python3"
  },
  "language_info": {
   "codemirror_mode": {
    "name": "ipython",
    "version": 3
   },
   "file_extension": ".py",
   "mimetype": "text/x-python",
   "name": "python",
   "nbconvert_exporter": "python",
   "pygments_lexer": "ipython3",
   "version": "3.12.2"
  }
 },
 "nbformat": 4,
 "nbformat_minor": 5
}
